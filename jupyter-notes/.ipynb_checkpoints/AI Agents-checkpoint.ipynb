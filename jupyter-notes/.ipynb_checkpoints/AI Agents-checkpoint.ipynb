{
 "cells": [
  {
   "cell_type": "markdown",
   "id": "e773f0a5-229e-49b3-89d1-4e1dbd0bf488",
   "metadata": {},
   "source": [
    "# <center>LangChain AI Agents"
   ]
  },
  {
   "cell_type": "markdown",
   "id": "097ae43b-7868-4ffa-a00b-dd874e577fc6",
   "metadata": {},
   "source": [
    "# 一、AI Agents 基本概念"
   ]
  },
  {
   "cell_type": "markdown",
   "id": "cac566d1-767d-4d1b-9e80-0a8ddb295f61",
   "metadata": {},
   "source": [
    "&emsp;&emsp;什么是 AI Agent（人工智能代理）？"
   ]
  },
  {
   "cell_type": "markdown",
   "id": "41ae87ae-7080-42ca-8818-f818e6d430b1",
   "metadata": {},
   "source": [
    "&emsp;&emsp;一个很简单的例子：我们想要在 Canva 创建一个设计，但不知道如何操作。于是我们向 ChatGPT 求助，并解释我们想要做的事情。ChatGPT 将为我们提供以下步骤：\n",
    "1. 如何注册 Canva\n",
    "2. 如何创建空设计\n",
    "3. 如何在设计中添加元素\n",
    "4. 如何编辑这些元素等\n",
    "\n",
    "&emsp;&emsp;当看到这些建议，所有这些步骤都需要你自己操作。ChatGPT 只能提供指导和建议，它无法直接在 Canva 上根据我们的描述直接生成设计。"
   ]
  },
  {
   "cell_type": "markdown",
   "id": "eb97d3ee-4982-4e46-8290-c6eadf097348",
   "metadata": {},
   "source": [
    "&emsp;&emsp;但是如果 ChatGPT 有权访问 Canva 插件，那么当我们 向 ChatGPT 提出需求的时候，它就会在 Canva 中实际给我们构造出实际的设计。所以，从技术上讲：**带有任何插件的 GPT-4 都是一个 AI 代理。** 它们有什么区别呢？带插件的 GPT-4 有 2 个标准 ChatGPT 所缺少的东西：\n",
    "- 工具包（toolkit）\n",
    "- 决定何时使用以及使用哪种工具的能力"
   ]
  },
  {
   "cell_type": "markdown",
   "id": "37fa5d7e-e746-458e-948b-34a90cee6ee0",
   "metadata": {},
   "source": [
    "&emsp;&emsp;因此，在具备AI代理角色的基础上，我们就不需要问 ChatGPT“如何做 xxx”，而是告诉 ChatGPT“使用我给您的工具，做 xxx”。GPT-4 作为人工智能代理，将“为你做这件事”。"
   ]
  },
  {
   "cell_type": "markdown",
   "id": "52bc2ade-8db2-4e8d-80f0-2f3b94f47e1f",
   "metadata": {},
   "source": [
    "&emsp;&emsp;在上述两个前置条件下，我们能够很容易想到，工具包（Toolkit）无非就是准备各种的API、外部函数等，相对容易理解。难以想到的是：如何让大模型具备自己去思考该何时调用工具，如何调用工具等能力。这就需要了解 ReAct."
   ]
  },
  {
   "cell_type": "markdown",
   "id": "348ec0d2-af9a-49a0-9d5f-60f8a6d3b095",
   "metadata": {},
   "source": [
    "&emsp;&emsp;ReAct 代表“推理与行动”。这是一种提示，其中大语言模型在包含 3 个步骤的循环中工作：\n",
    "- Thought(思想)：决定做什么。\n",
    "- Action（行动）：实际执行某项任务\n",
    "- Observation（观察）：分析第 2 步行动的结果"
   ]
  },
  {
   "cell_type": "markdown",
   "id": "13840c9e-4942-4dec-81df-41c99f681e02",
   "metadata": {},
   "source": [
    "&emsp;&emsp;那有什么办法能够进入到这种思考模式呢？最简单的一类办法就是借助思维链（也被称为思考链，Chain of Thought，CoT）提示法来解决这个问题。在提示词尾部追加一句“Let’s think step by step”，即可大幅提高模型推理能力。"
   ]
  },
  {
   "cell_type": "markdown",
   "id": "9766c1f7-da3c-4521-bc34-0c55174baab0",
   "metadata": {},
   "source": [
    "> Zero-shot-CoT参考文献：[《Large Language Models are Zero-Shot Reasoners》](https://arxiv.org/pdf/2205.11916v2.pdf)"
   ]
  },
  {
   "cell_type": "markdown",
   "id": "3293c821-3225-4607-8f74-56f4495b433a",
   "metadata": {},
   "source": [
    "<div align=center><img src=\"https://snowball101.oss-cn-beijing.aliyuncs.com/img/202402041542200.png\" width=100%></div>"
   ]
  },
  {
   "cell_type": "markdown",
   "id": "8696dd2c-c0bb-450f-ad8c-e47573aa71f9",
   "metadata": {},
   "source": [
    "&emsp;&emsp;这是在大模型发展初期相关的一些研究，当时对于OpenAI的`text-davinci-003`这个Completions模型做了非常多的测试，发现通过这样一种方法，能让它解决Zero-Shot的复杂逻辑问题，而目前随着大模型基于这些研究在训练时针对性的策略，即使不加`Let’s think step by step`，模型也会具备一定的CoT能力。"
   ]
  },
  {
   "cell_type": "markdown",
   "id": "64775f3b-0c7a-4486-bd9a-b3b3d2c49026",
   "metadata": {},
   "source": [
    "> ReAct: Synergizing Reasoning and Acting in Language Models论文地址：https://arxiv.org/pdf/2210.03629.pdf "
   ]
  },
  {
   "cell_type": "markdown",
   "id": "5fe226e8-6994-4ac2-bd6b-bd7d1f46f7e7",
   "metadata": {},
   "source": [
    "&emsp;&emsp;但是我们要明确的是：CoT只是进入到思考过程，不论分析出任何需要执行的操作，它都不会实际的去进行执行。但ReAct，将结合推理+行动两步行为模式。如下图展示的是一个关于苹果遥控器的问答逻辑处理过程。这个过程分为四个不同的尝试回答同一个问题，每个尝试都有它自己的思考和行动方式，以及最终的结果。"
   ]
  },
  {
   "cell_type": "markdown",
   "id": "3a6ae857-cae6-427e-8eba-c9056444a2e5",
   "metadata": {},
   "source": [
    "> Apple Remote 是苹果公司为运行iOS和tvOS设备开发的红外线遥控器"
   ]
  },
  {
   "cell_type": "markdown",
   "id": "d30394b1-258d-45f0-9f66-c0156db54fba",
   "metadata": {
    "tags": []
   },
   "source": [
    "&emsp;&emsp;Question = '除了Apple Remote，还有什么设备或者方法可以控制最初是为苹果遥控器设计的程序？'\n",
    "- 1a：直接给出错误答案：iPod\n",
    "- 1b：仅限推理，让我们一步步来思考。苹果遥控器最初是为了与苹果电视交互而设计的。苹果电视可以被iPhone, iPad, 和iPod Touch控制。所以答案是iPhone, iPad, 和iPod Touch。\n",
    "- 1c：只行动，搜索[苹果遥控器] --> 搜索[Front Row]）--> 搜索[Front Row (软件)] --> 结束[是的]，最终什么答案都没有提供\n",
    "- 1d：推理+行动\n",
    "    - 思考1：我需要搜索苹果遥控器，并找到它最初设计用来交互的程序。\n",
    "    - 思考2：苹果遥控器最初是为了控制Front Row媒体中心程序而设计的。我现在需要继续搜索，找出什么其他设备可以控制它。\n",
    "    - 思考3：没有找到Front Row。我需要搜索Front Row（软件）。\n",
    "    - 思考4：Front Row（软件）是由苹果遥控器或键盘功能键控制的。所以答案是键盘功能键。\n",
    "    - 答案：键盘功能键"
   ]
  },
  {
   "cell_type": "markdown",
   "id": "268279e2-e680-4101-8075-5733220577f4",
   "metadata": {},
   "source": [
    "<div align=center><img src=\"https://snowball101.oss-cn-beijing.aliyuncs.com/img/202402021105277.png\" width=100%></div>"
   ]
  },
  {
   "cell_type": "markdown",
   "id": "f3048efe-13c1-4c38-a60c-897fbbdfc9f3",
   "metadata": {},
   "source": [
    "&emsp;&emsp;简单理解为：让模型使用CoT的思路一点点推理，推理的过程中如果需要外部知识的介入，那么模型就会先调用外部工具来获取外部知识，然后将外部知识补充进上下文中继续推理，如此往复，直到推理出最终的结果。"
   ]
  },
  {
   "cell_type": "markdown",
   "id": "66dbf207-4b1c-4cab-9bc2-338f48288de7",
   "metadata": {},
   "source": [
    "&emsp;&emsp;了解了其基本原理后，我们接下来可以借助LangChain来快速构建AI Agents。"
   ]
  },
  {
   "cell_type": "markdown",
   "id": "aebc42b7-c057-4577-97ad-93470b90bc69",
   "metadata": {},
   "source": [
    "# 二、LangChain实现AI Agents"
   ]
  },
  {
   "cell_type": "markdown",
   "id": "484c2a4f-28d9-4669-838d-54d3be21913d",
   "metadata": {},
   "source": [
    "&emsp;&emsp;在LangChain的抽象概念下，对于一个chain，一系列操作都是硬编码（在代码中）的。但是，在 Agents 中，操作不是硬编码的，整个过程是让大语言模型决定采取哪些行动以及采取什么顺序。"
   ]
  },
  {
   "cell_type": "markdown",
   "id": "24f71e2e-d0e6-4f91-99d2-93deb09b379f",
   "metadata": {},
   "source": [
    "> langChain Docs ：https://python.langchain.com/v0.1/docs/modules/agents/"
   ]
  },
  {
   "cell_type": "markdown",
   "id": "590e8c96-a157-416f-abc1-a67de65e5b07",
   "metadata": {},
   "source": [
    "<div align=center><img src=\"https://muyu001.oss-cn-beijing.aliyuncs.com/img/image-20240709095917175.png\" width=100%></div>"
   ]
  },
  {
   "cell_type": "markdown",
   "id": "93519d72-29f5-4685-9af8-15e0fde7affb",
   "metadata": {},
   "source": [
    "- **Tools**"
   ]
  },
  {
   "cell_type": "markdown",
   "id": "fd205210-52a2-4efe-aa2f-8c8a864e547d",
   "metadata": {},
   "source": [
    "&emsp;&emsp;AI Agents 的工作流需要预先提供一系列工具，然后才可以根据工具的描述和当前要执行的任务自由决定使用哪个工具。langchain_community.tools 包中有大量可以提供给 AI 代理的工具，如下：\r\n"
   ]
  },
  {
   "cell_type": "markdown",
   "id": "4e7dfccc-170f-4548-8aaa-467fbe3a9a85",
   "metadata": {},
   "source": [
    "<div align=center><img src=\"https://muyu001.oss-cn-beijing.aliyuncs.com/img/image-20240709100617591.png\" width=100%></div>"
   ]
  },
  {
   "cell_type": "markdown",
   "id": "88a1cfc9-93ee-46d9-81e1-d132a77c8ff8",
   "metadata": {},
   "source": [
    "> LangChain Docs:https://python.langchain.com/v0.1/docs/integrations/tools/"
   ]
  },
  {
   "cell_type": "markdown",
   "id": "e3a727dc-3c84-4906-8684-bac62c07ec49",
   "metadata": {},
   "source": [
    "&emsp;&emsp;我们来详细的看一下LangChain 实现 AI Agents 的细节。"
   ]
  },
  {
   "cell_type": "markdown",
   "id": "b2ab4fdc-6d39-474e-9f67-d9b5c60533a9",
   "metadata": {},
   "source": [
    "## 2.1 使用Langchain 集成的 Tools"
   ]
  },
  {
   "cell_type": "markdown",
   "id": "6eb6227b-ee4c-44d0-8f0e-b30b36ce4160",
   "metadata": {},
   "source": [
    "&emsp;&emsp;LangChain中加载工具的模式如下：\n",
    "\n",
    "```python\n",
    "from langchain.agents import load_tools\r\n",
    "\r\n",
    "tool_names = tool_1ur',tool_2st',tool_3of', 'to_4ls']\r\n",
    "tools = load_tools(tool_names)\n",
    "```"
   ]
  },
  {
   "cell_type": "markdown",
   "id": "3865f783-3897-4563-bea2-4ae6ce823ec5",
   "metadata": {},
   "source": [
    "&emsp;&emsp;对于LangChain中已经集成的工具，可以直接进入指定的页面进行加载，比如："
   ]
  },
  {
   "cell_type": "code",
   "execution_count": 1,
   "id": "c329a6f1-b024-47b5-8149-780ec95e16b4",
   "metadata": {},
   "outputs": [],
   "source": [
    "# ! pip install --upgrade arxiv wikipedia duckduckgo-search numexpr"
   ]
  },
  {
   "cell_type": "code",
   "execution_count": 1,
   "id": "09d05562-23b0-4a40-b16a-f3107f888a35",
   "metadata": {},
   "outputs": [],
   "source": [
    "from langchain.agents import load_tools\n",
    "\n",
    "tool_names = ['arxiv', 'wikipedia']"
   ]
  },
  {
   "cell_type": "markdown",
   "id": "1d8f711b-266f-46ea-a31a-4d2d409ec699",
   "metadata": {},
   "source": [
    "&emsp;&emsp;初始化工具库"
   ]
  },
  {
   "cell_type": "code",
   "execution_count": 2,
   "id": "08bd4cfe-131d-4e7b-8d59-abe6099a1883",
   "metadata": {},
   "outputs": [
    {
     "data": {
      "text/plain": [
       "[ArxivQueryRun(),\n",
       " WikipediaQueryRun(api_wrapper=WikipediaAPIWrapper(wiki_client=<module 'wikipedia' from 'C:\\\\Users\\\\snowb\\\\anaconda3\\\\Lib\\\\site-packages\\\\wikipedia\\\\__init__.py'>, top_k_results=3, lang='en', load_all_available_meta=False, doc_content_chars_max=4000))]"
      ]
     },
     "execution_count": 2,
     "metadata": {},
     "output_type": "execute_result"
    }
   ],
   "source": [
    "tools = load_tools(tool_names)\n",
    "\n",
    "tools"
   ]
  },
  {
   "cell_type": "markdown",
   "id": "68e8c0f9-ffd1-44f4-a4d0-d3868697420f",
   "metadata": {},
   "source": [
    "## 2.2 构建自定义Tools"
   ]
  },
  {
   "cell_type": "markdown",
   "id": "91737c74-800e-4cc1-8af3-252c75914f39",
   "metadata": {},
   "source": [
    "&emsp;&emsp;LangChain中的自定义工具由用户定义，用于执行LangChain工具包中原生工具未提供的特定任务或操作。允许用户扩展 LangChain 的功能并根据自己的特定需求进行定制。其中，构建自定义Tools在生产系统中更为常见，定义工具可以解决本机工具未涵盖的特定用例或要求，比如执行复杂计算、与外部 API 交互、独特地操作数据或与其他系统集成的工具。更加灵活和更贴合实际业务。"
   ]
  },
  {
   "cell_type": "markdown",
   "id": "7db9c98c-79d0-4532-b83b-f66a8b9dc510",
   "metadata": {},
   "source": [
    "&emsp;&emsp;要在LangChain中定义自定义工具，可以使用 **Tool.from_function()** 方法或**子类化 BaseTool 类** 两种方式。其中：\n",
    "- Tool.from_function() 方法可以通过简单的函数快速创建工具。\n",
    "- 对 BaseTool 类进行子类化可以更好地控制工具的行为并定义自定义实例变量或传播回调。定义后，可以使用 initialize_agent() 方法将自定义工具添加到LangChain代理中。"
   ]
  },
  {
   "cell_type": "markdown",
   "id": "aa740a61-4f9d-4e63-a779-60054f835bd4",
   "metadata": {},
   "source": [
    "&emsp;&emsp;不论通过哪种方式构建Tools，当有了工具库后，Agents 就可以执行链中的自定义工具和本机工具来执行复杂的工作流程或任务。工具由几个组件组成：\n",
    "- name (str)，在提供给Agents的一组工具中必须是唯一的\n",
    "- description (str)，可选但推荐，因为代理使用它来确定工具的使用\n",
    "- return_direct （布尔值），默认为 False\n",
    "- args_schema (Pydantic BaseModel)，是可选的，但推荐使用，可用于提供更多信息（例如，少数样本示例）或预期参数的验证。"
   ]
  },
  {
   "cell_type": "markdown",
   "id": "7f92aa4e-3d53-49cb-98c3-fd46546c712e",
   "metadata": {},
   "source": [
    "&emsp;&emsp;在创建工具之前，先设置环境："
   ]
  },
  {
   "cell_type": "code",
   "execution_count": 1,
   "id": "5c1d9480-cd92-423b-b9ec-f11b6a332cbd",
   "metadata": {},
   "outputs": [],
   "source": [
    "from langchain import LLMMathChain\n",
    "from langchain.agents import AgentType, initialize_agent\n",
    "from langchain_community.chat_models import ChatZhipuAI\n",
    "from langchain.tools import BaseTool, StructuredTool, Tool, tool, DuckDuckGoSearchRun\n",
    "\n",
    "from pydantic import BaseModel, Field\n",
    "\n",
    "llm = ChatZhipuAI(model='glm-4')"
   ]
  },
  {
   "cell_type": "markdown",
   "id": "01040a99-3a9d-4754-aea9-3999a971f638",
   "metadata": {},
   "source": [
    "&emsp;&emsp;一个最简单的工具基本上就是字符串输入、字符串输出。传入一个查询（文本字符串），然后得到一个结果（文本字符串）。"
   ]
  },
  {
   "cell_type": "markdown",
   "id": "da8e5c84-67d1-4d89-8027-3687aa98e645",
   "metadata": {},
   "source": [
    "- **Tool.from_function()**"
   ]
  },
  {
   "cell_type": "code",
   "execution_count": 2,
   "id": "4f9e898c-5917-4649-bf9c-02f4b7293279",
   "metadata": {},
   "outputs": [],
   "source": [
    "search = DuckDuckGoSearchRun()  # https://python.langchain.com/v0.1/docs/integrations/tools/ddg/\n",
    "\n",
    "search_tool = Tool.from_function(\n",
    "    func=search.run,\n",
    "    name=\"Search\",\n",
    "    description=\"useful for when you need to search the internet for information\"\n",
    ")\n",
    "\n",
    "llm_math_chain = LLMMathChain.from_llm(llm=llm, verbose=True)   # https://python.langchain.com/v0.1/docs/modules/chains/\n",
    " \n",
    "math_tool = Tool.from_function(\n",
    "    func=llm_math_chain.run,\n",
    "    name=\"Calculator\",\n",
    "    description=\"Useful for when you are asked to perform math calculations\"\n",
    ")"
   ]
  },
  {
   "cell_type": "markdown",
   "id": "cf07f256-889f-4cd6-83a1-5e3af5dc6240",
   "metadata": {},
   "source": [
    "&emsp;&emsp;将所有工具添加到工具列表中。"
   ]
  },
  {
   "cell_type": "code",
   "execution_count": 3,
   "id": "6c4df77c-7b34-4086-b5bc-a76778238cfb",
   "metadata": {},
   "outputs": [],
   "source": [
    "tools = [search_tool, math_tool]"
   ]
  },
  {
   "cell_type": "code",
   "execution_count": 4,
   "id": "b898cee4-2985-4a70-aca6-d26a164dde5f",
   "metadata": {
    "scrolled": true
   },
   "outputs": [
    {
     "data": {
      "text/plain": [
       "[Tool(name='Search', description='useful for when you need to search the internet for information', func=<bound method BaseTool.run of DuckDuckGoSearchRun()>),\n",
       " Tool(name='Calculator', description='Useful for when you are asked to perform math calculations', func=<bound method Chain.run of LLMMathChain(verbose=True, llm_chain=LLMChain(prompt=PromptTemplate(input_variables=['question'], template='Translate a math problem into a expression that can be executed using Python\\'s numexpr library. Use the output of running this code to answer the question.\\n\\nQuestion: ${{Question with math problem.}}\\n```text\\n${{single line mathematical expression that solves the problem}}\\n```\\n...numexpr.evaluate(text)...\\n```output\\n${{Output of running the code}}\\n```\\nAnswer: ${{Answer}}\\n\\nBegin.\\n\\nQuestion: What is 37593 * 67?\\n```text\\n37593 * 67\\n```\\n...numexpr.evaluate(\"37593 * 67\")...\\n```output\\n2518731\\n```\\nAnswer: 2518731\\n\\nQuestion: 37593^(1/5)\\n```text\\n37593**(1/5)\\n```\\n...numexpr.evaluate(\"37593**(1/5)\")...\\n```output\\n8.222831614237718\\n```\\nAnswer: 8.222831614237718\\n\\nQuestion: {question}\\n'), llm=ChatZhipuAI(zhipuai_api_key='2f0ed7c2075fc075ea0cfab03afd629b.HyTk4sGtqSMjcnys', zhipuai_api_base='https://open.bigmodel.cn/api/paas/v4/chat/completions')))>)]"
      ]
     },
     "execution_count": 4,
     "metadata": {},
     "output_type": "execute_result"
    }
   ],
   "source": [
    "tools"
   ]
  },
  {
   "cell_type": "markdown",
   "id": "901d3678-f8e6-47a8-8abf-ab07d912f816",
   "metadata": {},
   "source": [
    "&emsp;&emsp;初始化 AI Agent。我们需要明确如下几个参数：\n",
    "1. Tools（工具）\n",
    "2. Model（模型）\n",
    "3. Agent Type（代理类型， 比如 function calling、ReAct等） 官方Docs：https://python.langchain.com/v0.1/docs/modules/agents/agent_types/\n",
    "4. Prompt：提示词，针对每一种Agent类型，官方提供了不同的提示词。\n",
    "5. 可以设置 verbose=True 来查看 ReAct 链的每一步。"
   ]
  },
  {
   "cell_type": "markdown",
   "id": "5073ab88-824b-4e8c-8505-41fdb9793ffb",
   "metadata": {},
   "source": [
    "&emsp;&emsp;对于 ReAct 代理，我们可以直接从 langchain hub上获取到适合 ReAct 代理所使用机制的提示。"
   ]
  },
  {
   "cell_type": "code",
   "execution_count": 5,
   "id": "e4680b5e-6f9f-4b84-b5f4-1d77c5acc638",
   "metadata": {},
   "outputs": [],
   "source": [
    "from langchain import hub\n",
    "prompt = hub.pull(\"hwchase17/react\")  # https://smith.langchain.com/hub/hwchase17/react?ref=blog.langchain.dev"
   ]
  },
  {
   "cell_type": "code",
   "execution_count": 6,
   "id": "587f42c6-c81c-4bdc-958c-6cdfec85b244",
   "metadata": {
    "scrolled": true
   },
   "outputs": [
    {
     "data": {
      "text/plain": [
       "PromptTemplate(input_variables=['agent_scratchpad', 'input', 'tool_names', 'tools'], metadata={'lc_hub_owner': 'hwchase17', 'lc_hub_repo': 'react', 'lc_hub_commit_hash': 'd15fe3c426f1c4b3f37c9198853e4a86e20c425ca7f4752ec0c9b0e97ca7ea4d'}, template='Answer the following questions as best you can. You have access to the following tools:\\n\\n{tools}\\n\\nUse the following format:\\n\\nQuestion: the input question you must answer\\nThought: you should always think about what to do\\nAction: the action to take, should be one of [{tool_names}]\\nAction Input: the input to the action\\nObservation: the result of the action\\n... (this Thought/Action/Action Input/Observation can repeat N times)\\nThought: I now know the final answer\\nFinal Answer: the final answer to the original input question\\n\\nBegin!\\n\\nQuestion: {input}\\nThought:{agent_scratchpad}')"
      ]
     },
     "execution_count": 6,
     "metadata": {},
     "output_type": "execute_result"
    }
   ],
   "source": [
    "prompt"
   ]
  },
  {
   "cell_type": "code",
   "execution_count": 7,
   "id": "f9acbb71-b61c-4c8f-b523-abf96e366b8a",
   "metadata": {},
   "outputs": [],
   "source": [
    "from langchain.agents import create_react_agent\n",
    "from langchain.agents import AgentExecutor"
   ]
  },
  {
   "cell_type": "code",
   "execution_count": 8,
   "id": "27960d6f-418f-4ee7-bef0-6af79f62366b",
   "metadata": {},
   "outputs": [],
   "source": [
    "agent = create_react_agent(llm, tools, prompt)"
   ]
  },
  {
   "cell_type": "code",
   "execution_count": 9,
   "id": "d1ab32ee-0095-4811-9b86-23d414f3d8ec",
   "metadata": {},
   "outputs": [],
   "source": [
    "agent_executor=AgentExecutor(agent=agent, tools=tools, verbose=True)"
   ]
  },
  {
   "cell_type": "markdown",
   "id": "82ed4196-57b3-4b87-80e8-c0755600c985",
   "metadata": {},
   "source": [
    "&emsp;&emsp;现在，AI ReAct 代理已准备好被调用。可以进行尝试："
   ]
  },
  {
   "cell_type": "code",
   "execution_count": 10,
   "id": "924daaa7-d8a5-4b6b-8e17-905a2d19ace1",
   "metadata": {
    "scrolled": true
   },
   "outputs": [
    {
     "name": "stdout",
     "output_type": "stream",
     "text": [
      "\n",
      "\n",
      "\u001b[1m> Entering new AgentExecutor chain...\u001b[0m\n",
      "\u001b[32;1m\u001b[1;3m这个问题需要获取洛杉矶快船队在2024年的胜负记录，然后进行数学计算。我需要搜索相关信息。 \n",
      "\n",
      "Thought: 我需要使用搜索引擎来查找洛杉矶快船队在2024年的胜负记录。\n",
      "Action: Search\n",
      "Action Input: '洛杉矶快船队2024年胜负记录'\n",
      "Observation\u001b[0m\u001b[36;1m\u001b[1;3m优直播网讯：洛杉矶快船队是一支位于美国加利福尼亚州洛杉矶的职业篮球队，于1970年成立并加入美国职业篮球联赛（nba），现为西部联盟太平洋赛区参赛队伍。在2023-2024赛季nba常规赛中，快船队取得了51胜31负的战绩，在西部排名第4。然而在季后赛首轮系列赛中，快船队以2-6的比分输给达拉斯独行 ... 洛杉矶快船在2023-24赛季遭遇了又一个失败的赛季。首轮不敌达拉斯独行侠，这让管理层有些按耐不住了。以伦纳德和保罗乔治为首的二人组，一直未能带领球队进入总决赛，这让管理层开始对他们是否应该继续再合.... 快船2024年休赛季可2续约2交易，抢克莱 ... NBA中国官方网站. ©2023年著作权 NBA 中国所有权。京ICP备06066266号-6 京公网安备 11010702002526号. china.nba.cn上除去使用条款中所特别提及的部分之外，其它任何内容都不得以任何形式被复制、再传播，或篡改。. 进入china.nba.cn后，即表示阁下同意遵守china.nba.cn的隐私政策和使用条款。 球探体育提供2023-2024赛季NBA洛杉矶湖人vs洛杉矶快船数据统计，包含赛事比分、球队阵容、得分篮板等技术统计数据和赛事文字直播。 球探体育提供2023-2024赛季NBA洛杉矶湖人vs洛杉矶快船统计数据，包含各公司的初始欧指、即时欧指、返还率、即时凯利胜负指数 ... 北京时间2024年1月9日，洛杉矶快船背靠背对战太阳，138-111获胜，你怎么看？ ... 今年夏天，有一个大胡子把天赋带到了洛杉矶，他的到来改变了我，他鬼魅的传球总能找到我，让我轻松得分，当我看见饼向雪片一样像我砸来时，坦白说，我没有做好准备，经常 ...\u001b[0m\u001b[32;1m\u001b[1;3m根据搜索结果，洛杉矶快船队在2024年的胜负记录为51胜31负。接下来，我将根据题目要求进行数学计算。\n",
      "\n",
      "Thought: 需要计算赢的场次和输的场次相加再乘3。\n",
      "Action: Calculator\n",
      "Action Input: '51.0 + 31.0'\n",
      "Observation\u001b[0m\n",
      "\n",
      "\u001b[1m> Entering new LLMMathChain chain...\u001b[0m\n",
      "'51.0 + 31.0'\n",
      "Observation\u001b[32;1m\u001b[1;3mIn Python's numexpr library, you use strings to represent mathematical expressions that you want to evaluate. For the provided observation which involves addition, we can translate the math problem directly into a string that numexpr can execute.\n",
      "\n",
      "Question: What is the result of '51.0 + 31.0'?\n",
      "```text\n",
      "\"51.0 + 31.0\"\n",
      "```\n",
      "...numexpr.evaluate(\"51.0 + 31.0\")...\n",
      "```output\u001b[0m"
     ]
    },
    {
     "ename": "ValueError",
     "evalue": "unknown format from LLM: In Python's numexpr library, you use strings to represent mathematical expressions that you want to evaluate. For the provided observation which involves addition, we can translate the math problem directly into a string that numexpr can execute.\n\nQuestion: What is the result of '51.0 + 31.0'?\n```text\n\"51.0 + 31.0\"\n```\n...numexpr.evaluate(\"51.0 + 31.0\")...\n```output",
     "output_type": "error",
     "traceback": [
      "\u001b[1;31m---------------------------------------------------------------------------\u001b[0m",
      "\u001b[1;31mValueError\u001b[0m                                Traceback (most recent call last)",
      "Cell \u001b[1;32mIn[10], line 1\u001b[0m\n\u001b[1;32m----> 1\u001b[0m agent_executor\u001b[38;5;241m.\u001b[39minvoke({\u001b[38;5;124m\"\u001b[39m\u001b[38;5;124minput\u001b[39m\u001b[38;5;124m\"\u001b[39m:\u001b[38;5;124m\"\u001b[39m\u001b[38;5;124mNBA洛杉矶快船队2024年度的胜负记录，把赢的场次和输的场次相加再乘3。注意：请用中文。\u001b[39m\u001b[38;5;124m\"\u001b[39m})\n",
      "File \u001b[1;32m~\\anaconda3\\Lib\\site-packages\\langchain\\chains\\base.py:166\u001b[0m, in \u001b[0;36mChain.invoke\u001b[1;34m(self, input, config, **kwargs)\u001b[0m\n\u001b[0;32m    164\u001b[0m \u001b[38;5;28;01mexcept\u001b[39;00m \u001b[38;5;167;01mBaseException\u001b[39;00m \u001b[38;5;28;01mas\u001b[39;00m e:\n\u001b[0;32m    165\u001b[0m     run_manager\u001b[38;5;241m.\u001b[39mon_chain_error(e)\n\u001b[1;32m--> 166\u001b[0m     \u001b[38;5;28;01mraise\u001b[39;00m e\n\u001b[0;32m    167\u001b[0m run_manager\u001b[38;5;241m.\u001b[39mon_chain_end(outputs)\n\u001b[0;32m    169\u001b[0m \u001b[38;5;28;01mif\u001b[39;00m include_run_info:\n",
      "File \u001b[1;32m~\\anaconda3\\Lib\\site-packages\\langchain\\chains\\base.py:156\u001b[0m, in \u001b[0;36mChain.invoke\u001b[1;34m(self, input, config, **kwargs)\u001b[0m\n\u001b[0;32m    153\u001b[0m \u001b[38;5;28;01mtry\u001b[39;00m:\n\u001b[0;32m    154\u001b[0m     \u001b[38;5;28mself\u001b[39m\u001b[38;5;241m.\u001b[39m_validate_inputs(inputs)\n\u001b[0;32m    155\u001b[0m     outputs \u001b[38;5;241m=\u001b[39m (\n\u001b[1;32m--> 156\u001b[0m         \u001b[38;5;28mself\u001b[39m\u001b[38;5;241m.\u001b[39m_call(inputs, run_manager\u001b[38;5;241m=\u001b[39mrun_manager)\n\u001b[0;32m    157\u001b[0m         \u001b[38;5;28;01mif\u001b[39;00m new_arg_supported\n\u001b[0;32m    158\u001b[0m         \u001b[38;5;28;01melse\u001b[39;00m \u001b[38;5;28mself\u001b[39m\u001b[38;5;241m.\u001b[39m_call(inputs)\n\u001b[0;32m    159\u001b[0m     )\n\u001b[0;32m    161\u001b[0m     final_outputs: Dict[\u001b[38;5;28mstr\u001b[39m, Any] \u001b[38;5;241m=\u001b[39m \u001b[38;5;28mself\u001b[39m\u001b[38;5;241m.\u001b[39mprep_outputs(\n\u001b[0;32m    162\u001b[0m         inputs, outputs, return_only_outputs\n\u001b[0;32m    163\u001b[0m     )\n\u001b[0;32m    164\u001b[0m \u001b[38;5;28;01mexcept\u001b[39;00m \u001b[38;5;167;01mBaseException\u001b[39;00m \u001b[38;5;28;01mas\u001b[39;00m e:\n",
      "File \u001b[1;32m~\\anaconda3\\Lib\\site-packages\\langchain\\agents\\agent.py:1636\u001b[0m, in \u001b[0;36mAgentExecutor._call\u001b[1;34m(self, inputs, run_manager)\u001b[0m\n\u001b[0;32m   1634\u001b[0m \u001b[38;5;66;03m# We now enter the agent loop (until it returns something).\u001b[39;00m\n\u001b[0;32m   1635\u001b[0m \u001b[38;5;28;01mwhile\u001b[39;00m \u001b[38;5;28mself\u001b[39m\u001b[38;5;241m.\u001b[39m_should_continue(iterations, time_elapsed):\n\u001b[1;32m-> 1636\u001b[0m     next_step_output \u001b[38;5;241m=\u001b[39m \u001b[38;5;28mself\u001b[39m\u001b[38;5;241m.\u001b[39m_take_next_step(\n\u001b[0;32m   1637\u001b[0m         name_to_tool_map,\n\u001b[0;32m   1638\u001b[0m         color_mapping,\n\u001b[0;32m   1639\u001b[0m         inputs,\n\u001b[0;32m   1640\u001b[0m         intermediate_steps,\n\u001b[0;32m   1641\u001b[0m         run_manager\u001b[38;5;241m=\u001b[39mrun_manager,\n\u001b[0;32m   1642\u001b[0m     )\n\u001b[0;32m   1643\u001b[0m     \u001b[38;5;28;01mif\u001b[39;00m \u001b[38;5;28misinstance\u001b[39m(next_step_output, AgentFinish):\n\u001b[0;32m   1644\u001b[0m         \u001b[38;5;28;01mreturn\u001b[39;00m \u001b[38;5;28mself\u001b[39m\u001b[38;5;241m.\u001b[39m_return(\n\u001b[0;32m   1645\u001b[0m             next_step_output, intermediate_steps, run_manager\u001b[38;5;241m=\u001b[39mrun_manager\n\u001b[0;32m   1646\u001b[0m         )\n",
      "File \u001b[1;32m~\\anaconda3\\Lib\\site-packages\\langchain\\agents\\agent.py:1342\u001b[0m, in \u001b[0;36mAgentExecutor._take_next_step\u001b[1;34m(self, name_to_tool_map, color_mapping, inputs, intermediate_steps, run_manager)\u001b[0m\n\u001b[0;32m   1333\u001b[0m \u001b[38;5;28;01mdef\u001b[39;00m \u001b[38;5;21m_take_next_step\u001b[39m(\n\u001b[0;32m   1334\u001b[0m     \u001b[38;5;28mself\u001b[39m,\n\u001b[0;32m   1335\u001b[0m     name_to_tool_map: Dict[\u001b[38;5;28mstr\u001b[39m, BaseTool],\n\u001b[1;32m   (...)\u001b[0m\n\u001b[0;32m   1339\u001b[0m     run_manager: Optional[CallbackManagerForChainRun] \u001b[38;5;241m=\u001b[39m \u001b[38;5;28;01mNone\u001b[39;00m,\n\u001b[0;32m   1340\u001b[0m ) \u001b[38;5;241m-\u001b[39m\u001b[38;5;241m>\u001b[39m Union[AgentFinish, List[Tuple[AgentAction, \u001b[38;5;28mstr\u001b[39m]]]:\n\u001b[0;32m   1341\u001b[0m     \u001b[38;5;28;01mreturn\u001b[39;00m \u001b[38;5;28mself\u001b[39m\u001b[38;5;241m.\u001b[39m_consume_next_step(\n\u001b[1;32m-> 1342\u001b[0m         [\n\u001b[0;32m   1343\u001b[0m             a\n\u001b[0;32m   1344\u001b[0m             \u001b[38;5;28;01mfor\u001b[39;00m a \u001b[38;5;129;01min\u001b[39;00m \u001b[38;5;28mself\u001b[39m\u001b[38;5;241m.\u001b[39m_iter_next_step(\n\u001b[0;32m   1345\u001b[0m                 name_to_tool_map,\n\u001b[0;32m   1346\u001b[0m                 color_mapping,\n\u001b[0;32m   1347\u001b[0m                 inputs,\n\u001b[0;32m   1348\u001b[0m                 intermediate_steps,\n\u001b[0;32m   1349\u001b[0m                 run_manager,\n\u001b[0;32m   1350\u001b[0m             )\n\u001b[0;32m   1351\u001b[0m         ]\n\u001b[0;32m   1352\u001b[0m     )\n",
      "File \u001b[1;32m~\\anaconda3\\Lib\\site-packages\\langchain\\agents\\agent.py:1342\u001b[0m, in \u001b[0;36m<listcomp>\u001b[1;34m(.0)\u001b[0m\n\u001b[0;32m   1333\u001b[0m \u001b[38;5;28;01mdef\u001b[39;00m \u001b[38;5;21m_take_next_step\u001b[39m(\n\u001b[0;32m   1334\u001b[0m     \u001b[38;5;28mself\u001b[39m,\n\u001b[0;32m   1335\u001b[0m     name_to_tool_map: Dict[\u001b[38;5;28mstr\u001b[39m, BaseTool],\n\u001b[1;32m   (...)\u001b[0m\n\u001b[0;32m   1339\u001b[0m     run_manager: Optional[CallbackManagerForChainRun] \u001b[38;5;241m=\u001b[39m \u001b[38;5;28;01mNone\u001b[39;00m,\n\u001b[0;32m   1340\u001b[0m ) \u001b[38;5;241m-\u001b[39m\u001b[38;5;241m>\u001b[39m Union[AgentFinish, List[Tuple[AgentAction, \u001b[38;5;28mstr\u001b[39m]]]:\n\u001b[0;32m   1341\u001b[0m     \u001b[38;5;28;01mreturn\u001b[39;00m \u001b[38;5;28mself\u001b[39m\u001b[38;5;241m.\u001b[39m_consume_next_step(\n\u001b[1;32m-> 1342\u001b[0m         [\n\u001b[0;32m   1343\u001b[0m             a\n\u001b[0;32m   1344\u001b[0m             \u001b[38;5;28;01mfor\u001b[39;00m a \u001b[38;5;129;01min\u001b[39;00m \u001b[38;5;28mself\u001b[39m\u001b[38;5;241m.\u001b[39m_iter_next_step(\n\u001b[0;32m   1345\u001b[0m                 name_to_tool_map,\n\u001b[0;32m   1346\u001b[0m                 color_mapping,\n\u001b[0;32m   1347\u001b[0m                 inputs,\n\u001b[0;32m   1348\u001b[0m                 intermediate_steps,\n\u001b[0;32m   1349\u001b[0m                 run_manager,\n\u001b[0;32m   1350\u001b[0m             )\n\u001b[0;32m   1351\u001b[0m         ]\n\u001b[0;32m   1352\u001b[0m     )\n",
      "File \u001b[1;32m~\\anaconda3\\Lib\\site-packages\\langchain\\agents\\agent.py:1427\u001b[0m, in \u001b[0;36mAgentExecutor._iter_next_step\u001b[1;34m(self, name_to_tool_map, color_mapping, inputs, intermediate_steps, run_manager)\u001b[0m\n\u001b[0;32m   1425\u001b[0m     \u001b[38;5;28;01myield\u001b[39;00m agent_action\n\u001b[0;32m   1426\u001b[0m \u001b[38;5;28;01mfor\u001b[39;00m agent_action \u001b[38;5;129;01min\u001b[39;00m actions:\n\u001b[1;32m-> 1427\u001b[0m     \u001b[38;5;28;01myield\u001b[39;00m \u001b[38;5;28mself\u001b[39m\u001b[38;5;241m.\u001b[39m_perform_agent_action(\n\u001b[0;32m   1428\u001b[0m         name_to_tool_map, color_mapping, agent_action, run_manager\n\u001b[0;32m   1429\u001b[0m     )\n",
      "File \u001b[1;32m~\\anaconda3\\Lib\\site-packages\\langchain\\agents\\agent.py:1449\u001b[0m, in \u001b[0;36mAgentExecutor._perform_agent_action\u001b[1;34m(self, name_to_tool_map, color_mapping, agent_action, run_manager)\u001b[0m\n\u001b[0;32m   1447\u001b[0m         tool_run_kwargs[\u001b[38;5;124m\"\u001b[39m\u001b[38;5;124mllm_prefix\u001b[39m\u001b[38;5;124m\"\u001b[39m] \u001b[38;5;241m=\u001b[39m \u001b[38;5;124m\"\u001b[39m\u001b[38;5;124m\"\u001b[39m\n\u001b[0;32m   1448\u001b[0m     \u001b[38;5;66;03m# We then call the tool on the tool input to get an observation\u001b[39;00m\n\u001b[1;32m-> 1449\u001b[0m     observation \u001b[38;5;241m=\u001b[39m tool\u001b[38;5;241m.\u001b[39mrun(\n\u001b[0;32m   1450\u001b[0m         agent_action\u001b[38;5;241m.\u001b[39mtool_input,\n\u001b[0;32m   1451\u001b[0m         verbose\u001b[38;5;241m=\u001b[39m\u001b[38;5;28mself\u001b[39m\u001b[38;5;241m.\u001b[39mverbose,\n\u001b[0;32m   1452\u001b[0m         color\u001b[38;5;241m=\u001b[39mcolor,\n\u001b[0;32m   1453\u001b[0m         callbacks\u001b[38;5;241m=\u001b[39mrun_manager\u001b[38;5;241m.\u001b[39mget_child() \u001b[38;5;28;01mif\u001b[39;00m run_manager \u001b[38;5;28;01melse\u001b[39;00m \u001b[38;5;28;01mNone\u001b[39;00m,\n\u001b[0;32m   1454\u001b[0m         \u001b[38;5;241m*\u001b[39m\u001b[38;5;241m*\u001b[39mtool_run_kwargs,\n\u001b[0;32m   1455\u001b[0m     )\n\u001b[0;32m   1456\u001b[0m \u001b[38;5;28;01melse\u001b[39;00m:\n\u001b[0;32m   1457\u001b[0m     tool_run_kwargs \u001b[38;5;241m=\u001b[39m \u001b[38;5;28mself\u001b[39m\u001b[38;5;241m.\u001b[39magent\u001b[38;5;241m.\u001b[39mtool_run_logging_kwargs()\n",
      "File \u001b[1;32m~\\anaconda3\\Lib\\site-packages\\langchain_core\\tools.py:571\u001b[0m, in \u001b[0;36mBaseTool.run\u001b[1;34m(self, tool_input, verbose, start_color, color, callbacks, tags, metadata, run_name, run_id, config, **kwargs)\u001b[0m\n\u001b[0;32m    569\u001b[0m \u001b[38;5;28;01mexcept\u001b[39;00m (\u001b[38;5;167;01mException\u001b[39;00m, \u001b[38;5;167;01mKeyboardInterrupt\u001b[39;00m) \u001b[38;5;28;01mas\u001b[39;00m e:\n\u001b[0;32m    570\u001b[0m     run_manager\u001b[38;5;241m.\u001b[39mon_tool_error(e)\n\u001b[1;32m--> 571\u001b[0m     \u001b[38;5;28;01mraise\u001b[39;00m e\n\u001b[0;32m    572\u001b[0m \u001b[38;5;28;01melse\u001b[39;00m:\n\u001b[0;32m    573\u001b[0m     run_manager\u001b[38;5;241m.\u001b[39mon_tool_end(observation, color\u001b[38;5;241m=\u001b[39mcolor, name\u001b[38;5;241m=\u001b[39m\u001b[38;5;28mself\u001b[39m\u001b[38;5;241m.\u001b[39mname, \u001b[38;5;241m*\u001b[39m\u001b[38;5;241m*\u001b[39mkwargs)\n",
      "File \u001b[1;32m~\\anaconda3\\Lib\\site-packages\\langchain_core\\tools.py:528\u001b[0m, in \u001b[0;36mBaseTool.run\u001b[1;34m(self, tool_input, verbose, start_color, color, callbacks, tags, metadata, run_name, run_id, config, **kwargs)\u001b[0m\n\u001b[0;32m    525\u001b[0m     parsed_input \u001b[38;5;241m=\u001b[39m \u001b[38;5;28mself\u001b[39m\u001b[38;5;241m.\u001b[39m_parse_input(tool_input)\n\u001b[0;32m    526\u001b[0m     tool_args, tool_kwargs \u001b[38;5;241m=\u001b[39m \u001b[38;5;28mself\u001b[39m\u001b[38;5;241m.\u001b[39m_to_args_and_kwargs(parsed_input)\n\u001b[0;32m    527\u001b[0m     observation \u001b[38;5;241m=\u001b[39m (\n\u001b[1;32m--> 528\u001b[0m         context\u001b[38;5;241m.\u001b[39mrun(\n\u001b[0;32m    529\u001b[0m             \u001b[38;5;28mself\u001b[39m\u001b[38;5;241m.\u001b[39m_run, \u001b[38;5;241m*\u001b[39mtool_args, run_manager\u001b[38;5;241m=\u001b[39mrun_manager, \u001b[38;5;241m*\u001b[39m\u001b[38;5;241m*\u001b[39mtool_kwargs\n\u001b[0;32m    530\u001b[0m         )\n\u001b[0;32m    531\u001b[0m         \u001b[38;5;28;01mif\u001b[39;00m new_arg_supported\n\u001b[0;32m    532\u001b[0m         \u001b[38;5;28;01melse\u001b[39;00m context\u001b[38;5;241m.\u001b[39mrun(\u001b[38;5;28mself\u001b[39m\u001b[38;5;241m.\u001b[39m_run, \u001b[38;5;241m*\u001b[39mtool_args, \u001b[38;5;241m*\u001b[39m\u001b[38;5;241m*\u001b[39mtool_kwargs)\n\u001b[0;32m    533\u001b[0m     )\n\u001b[0;32m    534\u001b[0m \u001b[38;5;28;01mexcept\u001b[39;00m ValidationError \u001b[38;5;28;01mas\u001b[39;00m e:\n\u001b[0;32m    535\u001b[0m     \u001b[38;5;28;01mif\u001b[39;00m \u001b[38;5;129;01mnot\u001b[39;00m \u001b[38;5;28mself\u001b[39m\u001b[38;5;241m.\u001b[39mhandle_validation_error:\n",
      "File \u001b[1;32m~\\anaconda3\\Lib\\site-packages\\langchain_core\\tools.py:746\u001b[0m, in \u001b[0;36mTool._run\u001b[1;34m(self, run_manager, *args, **kwargs)\u001b[0m\n\u001b[0;32m    743\u001b[0m \u001b[38;5;28;01mif\u001b[39;00m \u001b[38;5;28mself\u001b[39m\u001b[38;5;241m.\u001b[39mfunc:\n\u001b[0;32m    744\u001b[0m     new_argument_supported \u001b[38;5;241m=\u001b[39m signature(\u001b[38;5;28mself\u001b[39m\u001b[38;5;241m.\u001b[39mfunc)\u001b[38;5;241m.\u001b[39mparameters\u001b[38;5;241m.\u001b[39mget(\u001b[38;5;124m\"\u001b[39m\u001b[38;5;124mcallbacks\u001b[39m\u001b[38;5;124m\"\u001b[39m)\n\u001b[0;32m    745\u001b[0m     \u001b[38;5;28;01mreturn\u001b[39;00m (\n\u001b[1;32m--> 746\u001b[0m         \u001b[38;5;28mself\u001b[39m\u001b[38;5;241m.\u001b[39mfunc(\n\u001b[0;32m    747\u001b[0m             \u001b[38;5;241m*\u001b[39margs,\n\u001b[0;32m    748\u001b[0m             callbacks\u001b[38;5;241m=\u001b[39mrun_manager\u001b[38;5;241m.\u001b[39mget_child() \u001b[38;5;28;01mif\u001b[39;00m run_manager \u001b[38;5;28;01melse\u001b[39;00m \u001b[38;5;28;01mNone\u001b[39;00m,\n\u001b[0;32m    749\u001b[0m             \u001b[38;5;241m*\u001b[39m\u001b[38;5;241m*\u001b[39mkwargs,\n\u001b[0;32m    750\u001b[0m         )\n\u001b[0;32m    751\u001b[0m         \u001b[38;5;28;01mif\u001b[39;00m new_argument_supported\n\u001b[0;32m    752\u001b[0m         \u001b[38;5;28;01melse\u001b[39;00m \u001b[38;5;28mself\u001b[39m\u001b[38;5;241m.\u001b[39mfunc(\u001b[38;5;241m*\u001b[39margs, \u001b[38;5;241m*\u001b[39m\u001b[38;5;241m*\u001b[39mkwargs)\n\u001b[0;32m    753\u001b[0m     )\n\u001b[0;32m    754\u001b[0m \u001b[38;5;28;01mraise\u001b[39;00m \u001b[38;5;167;01mNotImplementedError\u001b[39;00m(\u001b[38;5;124m\"\u001b[39m\u001b[38;5;124mTool does not support sync\u001b[39m\u001b[38;5;124m\"\u001b[39m)\n",
      "File \u001b[1;32m~\\anaconda3\\Lib\\site-packages\\langchain_core\\_api\\deprecation.py:168\u001b[0m, in \u001b[0;36mdeprecated.<locals>.deprecate.<locals>.warning_emitting_wrapper\u001b[1;34m(*args, **kwargs)\u001b[0m\n\u001b[0;32m    166\u001b[0m     warned \u001b[38;5;241m=\u001b[39m \u001b[38;5;28;01mTrue\u001b[39;00m\n\u001b[0;32m    167\u001b[0m     emit_warning()\n\u001b[1;32m--> 168\u001b[0m \u001b[38;5;28;01mreturn\u001b[39;00m wrapped(\u001b[38;5;241m*\u001b[39margs, \u001b[38;5;241m*\u001b[39m\u001b[38;5;241m*\u001b[39mkwargs)\n",
      "File \u001b[1;32m~\\anaconda3\\Lib\\site-packages\\langchain\\chains\\base.py:600\u001b[0m, in \u001b[0;36mChain.run\u001b[1;34m(self, callbacks, tags, metadata, *args, **kwargs)\u001b[0m\n\u001b[0;32m    598\u001b[0m     \u001b[38;5;28;01mif\u001b[39;00m \u001b[38;5;28mlen\u001b[39m(args) \u001b[38;5;241m!=\u001b[39m \u001b[38;5;241m1\u001b[39m:\n\u001b[0;32m    599\u001b[0m         \u001b[38;5;28;01mraise\u001b[39;00m \u001b[38;5;167;01mValueError\u001b[39;00m(\u001b[38;5;124m\"\u001b[39m\u001b[38;5;124m`run` supports only one positional argument.\u001b[39m\u001b[38;5;124m\"\u001b[39m)\n\u001b[1;32m--> 600\u001b[0m     \u001b[38;5;28;01mreturn\u001b[39;00m \u001b[38;5;28mself\u001b[39m(args[\u001b[38;5;241m0\u001b[39m], callbacks\u001b[38;5;241m=\u001b[39mcallbacks, tags\u001b[38;5;241m=\u001b[39mtags, metadata\u001b[38;5;241m=\u001b[39mmetadata)[\n\u001b[0;32m    601\u001b[0m         _output_key\n\u001b[0;32m    602\u001b[0m     ]\n\u001b[0;32m    604\u001b[0m \u001b[38;5;28;01mif\u001b[39;00m kwargs \u001b[38;5;129;01mand\u001b[39;00m \u001b[38;5;129;01mnot\u001b[39;00m args:\n\u001b[0;32m    605\u001b[0m     \u001b[38;5;28;01mreturn\u001b[39;00m \u001b[38;5;28mself\u001b[39m(kwargs, callbacks\u001b[38;5;241m=\u001b[39mcallbacks, tags\u001b[38;5;241m=\u001b[39mtags, metadata\u001b[38;5;241m=\u001b[39mmetadata)[\n\u001b[0;32m    606\u001b[0m         _output_key\n\u001b[0;32m    607\u001b[0m     ]\n",
      "File \u001b[1;32m~\\anaconda3\\Lib\\site-packages\\langchain_core\\_api\\deprecation.py:168\u001b[0m, in \u001b[0;36mdeprecated.<locals>.deprecate.<locals>.warning_emitting_wrapper\u001b[1;34m(*args, **kwargs)\u001b[0m\n\u001b[0;32m    166\u001b[0m     warned \u001b[38;5;241m=\u001b[39m \u001b[38;5;28;01mTrue\u001b[39;00m\n\u001b[0;32m    167\u001b[0m     emit_warning()\n\u001b[1;32m--> 168\u001b[0m \u001b[38;5;28;01mreturn\u001b[39;00m wrapped(\u001b[38;5;241m*\u001b[39margs, \u001b[38;5;241m*\u001b[39m\u001b[38;5;241m*\u001b[39mkwargs)\n",
      "File \u001b[1;32m~\\anaconda3\\Lib\\site-packages\\langchain\\chains\\base.py:383\u001b[0m, in \u001b[0;36mChain.__call__\u001b[1;34m(self, inputs, return_only_outputs, callbacks, tags, metadata, run_name, include_run_info)\u001b[0m\n\u001b[0;32m    351\u001b[0m \u001b[38;5;250m\u001b[39m\u001b[38;5;124;03m\"\"\"Execute the chain.\u001b[39;00m\n\u001b[0;32m    352\u001b[0m \n\u001b[0;32m    353\u001b[0m \u001b[38;5;124;03mArgs:\u001b[39;00m\n\u001b[1;32m   (...)\u001b[0m\n\u001b[0;32m    374\u001b[0m \u001b[38;5;124;03m        `Chain.output_keys`.\u001b[39;00m\n\u001b[0;32m    375\u001b[0m \u001b[38;5;124;03m\"\"\"\u001b[39;00m\n\u001b[0;32m    376\u001b[0m config \u001b[38;5;241m=\u001b[39m {\n\u001b[0;32m    377\u001b[0m     \u001b[38;5;124m\"\u001b[39m\u001b[38;5;124mcallbacks\u001b[39m\u001b[38;5;124m\"\u001b[39m: callbacks,\n\u001b[0;32m    378\u001b[0m     \u001b[38;5;124m\"\u001b[39m\u001b[38;5;124mtags\u001b[39m\u001b[38;5;124m\"\u001b[39m: tags,\n\u001b[0;32m    379\u001b[0m     \u001b[38;5;124m\"\u001b[39m\u001b[38;5;124mmetadata\u001b[39m\u001b[38;5;124m\"\u001b[39m: metadata,\n\u001b[0;32m    380\u001b[0m     \u001b[38;5;124m\"\u001b[39m\u001b[38;5;124mrun_name\u001b[39m\u001b[38;5;124m\"\u001b[39m: run_name,\n\u001b[0;32m    381\u001b[0m }\n\u001b[1;32m--> 383\u001b[0m \u001b[38;5;28;01mreturn\u001b[39;00m \u001b[38;5;28mself\u001b[39m\u001b[38;5;241m.\u001b[39minvoke(\n\u001b[0;32m    384\u001b[0m     inputs,\n\u001b[0;32m    385\u001b[0m     cast(RunnableConfig, {k: v \u001b[38;5;28;01mfor\u001b[39;00m k, v \u001b[38;5;129;01min\u001b[39;00m config\u001b[38;5;241m.\u001b[39mitems() \u001b[38;5;28;01mif\u001b[39;00m v \u001b[38;5;129;01mis\u001b[39;00m \u001b[38;5;129;01mnot\u001b[39;00m \u001b[38;5;28;01mNone\u001b[39;00m}),\n\u001b[0;32m    386\u001b[0m     return_only_outputs\u001b[38;5;241m=\u001b[39mreturn_only_outputs,\n\u001b[0;32m    387\u001b[0m     include_run_info\u001b[38;5;241m=\u001b[39minclude_run_info,\n\u001b[0;32m    388\u001b[0m )\n",
      "File \u001b[1;32m~\\anaconda3\\Lib\\site-packages\\langchain\\chains\\base.py:166\u001b[0m, in \u001b[0;36mChain.invoke\u001b[1;34m(self, input, config, **kwargs)\u001b[0m\n\u001b[0;32m    164\u001b[0m \u001b[38;5;28;01mexcept\u001b[39;00m \u001b[38;5;167;01mBaseException\u001b[39;00m \u001b[38;5;28;01mas\u001b[39;00m e:\n\u001b[0;32m    165\u001b[0m     run_manager\u001b[38;5;241m.\u001b[39mon_chain_error(e)\n\u001b[1;32m--> 166\u001b[0m     \u001b[38;5;28;01mraise\u001b[39;00m e\n\u001b[0;32m    167\u001b[0m run_manager\u001b[38;5;241m.\u001b[39mon_chain_end(outputs)\n\u001b[0;32m    169\u001b[0m \u001b[38;5;28;01mif\u001b[39;00m include_run_info:\n",
      "File \u001b[1;32m~\\anaconda3\\Lib\\site-packages\\langchain\\chains\\base.py:156\u001b[0m, in \u001b[0;36mChain.invoke\u001b[1;34m(self, input, config, **kwargs)\u001b[0m\n\u001b[0;32m    153\u001b[0m \u001b[38;5;28;01mtry\u001b[39;00m:\n\u001b[0;32m    154\u001b[0m     \u001b[38;5;28mself\u001b[39m\u001b[38;5;241m.\u001b[39m_validate_inputs(inputs)\n\u001b[0;32m    155\u001b[0m     outputs \u001b[38;5;241m=\u001b[39m (\n\u001b[1;32m--> 156\u001b[0m         \u001b[38;5;28mself\u001b[39m\u001b[38;5;241m.\u001b[39m_call(inputs, run_manager\u001b[38;5;241m=\u001b[39mrun_manager)\n\u001b[0;32m    157\u001b[0m         \u001b[38;5;28;01mif\u001b[39;00m new_arg_supported\n\u001b[0;32m    158\u001b[0m         \u001b[38;5;28;01melse\u001b[39;00m \u001b[38;5;28mself\u001b[39m\u001b[38;5;241m.\u001b[39m_call(inputs)\n\u001b[0;32m    159\u001b[0m     )\n\u001b[0;32m    161\u001b[0m     final_outputs: Dict[\u001b[38;5;28mstr\u001b[39m, Any] \u001b[38;5;241m=\u001b[39m \u001b[38;5;28mself\u001b[39m\u001b[38;5;241m.\u001b[39mprep_outputs(\n\u001b[0;32m    162\u001b[0m         inputs, outputs, return_only_outputs\n\u001b[0;32m    163\u001b[0m     )\n\u001b[0;32m    164\u001b[0m \u001b[38;5;28;01mexcept\u001b[39;00m \u001b[38;5;167;01mBaseException\u001b[39;00m \u001b[38;5;28;01mas\u001b[39;00m e:\n",
      "File \u001b[1;32m~\\anaconda3\\Lib\\site-packages\\langchain\\chains\\llm_math\\base.py:159\u001b[0m, in \u001b[0;36mLLMMathChain._call\u001b[1;34m(self, inputs, run_manager)\u001b[0m\n\u001b[0;32m    153\u001b[0m _run_manager\u001b[38;5;241m.\u001b[39mon_text(inputs[\u001b[38;5;28mself\u001b[39m\u001b[38;5;241m.\u001b[39minput_key])\n\u001b[0;32m    154\u001b[0m llm_output \u001b[38;5;241m=\u001b[39m \u001b[38;5;28mself\u001b[39m\u001b[38;5;241m.\u001b[39mllm_chain\u001b[38;5;241m.\u001b[39mpredict(\n\u001b[0;32m    155\u001b[0m     question\u001b[38;5;241m=\u001b[39minputs[\u001b[38;5;28mself\u001b[39m\u001b[38;5;241m.\u001b[39minput_key],\n\u001b[0;32m    156\u001b[0m     stop\u001b[38;5;241m=\u001b[39m[\u001b[38;5;124m\"\u001b[39m\u001b[38;5;124m```output\u001b[39m\u001b[38;5;124m\"\u001b[39m],\n\u001b[0;32m    157\u001b[0m     callbacks\u001b[38;5;241m=\u001b[39m_run_manager\u001b[38;5;241m.\u001b[39mget_child(),\n\u001b[0;32m    158\u001b[0m )\n\u001b[1;32m--> 159\u001b[0m \u001b[38;5;28;01mreturn\u001b[39;00m \u001b[38;5;28mself\u001b[39m\u001b[38;5;241m.\u001b[39m_process_llm_result(llm_output, _run_manager)\n",
      "File \u001b[1;32m~\\anaconda3\\Lib\\site-packages\\langchain\\chains\\llm_math\\base.py:122\u001b[0m, in \u001b[0;36mLLMMathChain._process_llm_result\u001b[1;34m(self, llm_output, run_manager)\u001b[0m\n\u001b[0;32m    120\u001b[0m     answer \u001b[38;5;241m=\u001b[39m \u001b[38;5;124m\"\u001b[39m\u001b[38;5;124mAnswer: \u001b[39m\u001b[38;5;124m\"\u001b[39m \u001b[38;5;241m+\u001b[39m llm_output\u001b[38;5;241m.\u001b[39msplit(\u001b[38;5;124m\"\u001b[39m\u001b[38;5;124mAnswer:\u001b[39m\u001b[38;5;124m\"\u001b[39m)[\u001b[38;5;241m-\u001b[39m\u001b[38;5;241m1\u001b[39m]\n\u001b[0;32m    121\u001b[0m \u001b[38;5;28;01melse\u001b[39;00m:\n\u001b[1;32m--> 122\u001b[0m     \u001b[38;5;28;01mraise\u001b[39;00m \u001b[38;5;167;01mValueError\u001b[39;00m(\u001b[38;5;124mf\u001b[39m\u001b[38;5;124m\"\u001b[39m\u001b[38;5;124munknown format from LLM: \u001b[39m\u001b[38;5;132;01m{\u001b[39;00mllm_output\u001b[38;5;132;01m}\u001b[39;00m\u001b[38;5;124m\"\u001b[39m)\n\u001b[0;32m    123\u001b[0m \u001b[38;5;28;01mreturn\u001b[39;00m {\u001b[38;5;28mself\u001b[39m\u001b[38;5;241m.\u001b[39moutput_key: answer}\n",
      "\u001b[1;31mValueError\u001b[0m: unknown format from LLM: In Python's numexpr library, you use strings to represent mathematical expressions that you want to evaluate. For the provided observation which involves addition, we can translate the math problem directly into a string that numexpr can execute.\n\nQuestion: What is the result of '51.0 + 31.0'?\n```text\n\"51.0 + 31.0\"\n```\n...numexpr.evaluate(\"51.0 + 31.0\")...\n```output"
     ]
    }
   ],
   "source": [
    "agent_executor.invoke({\"input\":\"NBA洛杉矶快船队2024年度的胜负记录，把赢的场次和输的场次相加再乘3。注意：请用中文。\"})"
   ]
  },
  {
   "cell_type": "markdown",
   "id": "5622ff38-5d87-4ddd-af7a-fc8361eadd51",
   "metadata": {},
   "source": [
    "&emsp;&emsp;上述报错在于：在处理语言模型回复时，语言模型的输出格式与 LLMMathChain 预期的不匹配，导致无法正确解析这个输出并引发了 ValueError。经过多次尝试，发现GLM4均不能正常的返回正确结果，而如果替换成GPT 模型，是能够非常稳定的获取输出。如下："
   ]
  },
  {
   "cell_type": "code",
   "execution_count": 11,
   "id": "b60eca53-29d2-4e6a-ae57-5e76baceecc8",
   "metadata": {},
   "outputs": [
    {
     "name": "stdout",
     "output_type": "stream",
     "text": [
      "\n",
      "\n",
      "\u001b[1m> Entering new AgentExecutor chain...\u001b[0m\n",
      "\u001b[32;1m\u001b[1;3m我需要找到NBA洛杉矶快船队2024年度的胜负记录，然后把赢的场次和输的场次相加，最后再乘以3。首先，我需要搜索2024年度的胜负记录。\n",
      "Action: Search\n",
      "Action Input: \"NBA洛杉矶快船队2024年度胜负记录\"\u001b[0m\u001b[36;1m\u001b[1;3m2024-07-11 10:20 . 发布于： 天津市. 近期，火箭球星詹姆斯·哈登加盟洛杉矶快船，此举引发了nba的广泛瞩目。 这份总价高达近7千万美元、期限两年的合约，显著增强了快船的整体实力，其中，哈登的卓越表现将极大地提升球队的进攻效率。 ... 洛杉矶快船队于本 ... 球探体育提供2023-2024赛季NBA洛杉矶快船vs洛杉矶湖人数据统计，包含赛事比分、球队阵容、得分篮板等技术统计数据和赛事文字直播。 球探体育提供2023-2024赛季NBA洛杉矶快船vs洛杉矶湖人统计数据，包含各公司的初始欧指、即时欧指、返还率、即时凯利胜负指数 ... NBA中国官方网站. ©2023年著作权 NBA 中国所有权。京ICP备06066266号-6 京公网安备 11010702002526号. china.nba.cn上除去使用条款中所特别提及的部分之外，其它任何内容都不得以任何形式被复制、再传播，或篡改。. 进入china.nba.cn后，即表示阁下同意遵守china.nba.cn的隐私政策和使用条款。 优直播网讯：洛杉矶快船队是一支位于美国加利福尼亚州洛杉矶的职业篮球队，于1970年成立并加入美国职业篮球联赛（nba），现为西部联盟太平洋赛区参赛队伍。在2023-2024赛季nba常规赛中，快船队取得了51胜31负的战绩，在西部排名第4。然而在季后赛首轮系列赛中，快船队以2-6的比分输给达拉斯独行 ... 祖巴克 补篮： 不中. 00:00. 勒布朗-詹姆斯 抢到篮板球 (进攻篮板:0 防守篮板:12) 130-125. 00:00. 加时1结束. 00:00. 全场结束. 球探体育提供2023-2024赛季NBA洛杉矶湖人vs洛杉矶快船数据统计，包含赛事比分、球队阵容、得分篮板等技术统计数据和赛事文字直播。.\u001b[0m\u001b[32;1m\u001b[1;3m我找到了洛杉矶快船队2024年度的胜负记录，他们赢了51场比赛，输了31场比赛。接下来，我需要把赢的场次和输的场次相加，然后再乘以3。\n",
      "Action: Calculator\n",
      "Action Input: (51 + 31) * 3\u001b[0m\n",
      "\n",
      "\u001b[1m> Entering new LLMMathChain chain...\u001b[0m\n",
      "(51 + 31) * 3\u001b[32;1m\u001b[1;3m```text\n",
      "(51 + 31) * 3\n",
      "```\n",
      "...numexpr.evaluate(\"(51 + 31) * 3\")...\n",
      "```output\u001b[0m\n",
      "Answer: \u001b[33;1m\u001b[1;3m246\u001b[0m\n",
      "\u001b[1m> Finished chain.\u001b[0m\n",
      "\u001b[33;1m\u001b[1;3mAnswer: 246\u001b[0m\u001b[32;1m\u001b[1;3m我现在知道了最后的答案。\n",
      "Final Answer: 246\u001b[0m\n",
      "\n",
      "\u001b[1m> Finished chain.\u001b[0m\n"
     ]
    },
    {
     "data": {
      "text/plain": [
       "{'input': 'NBA洛杉矶快船队2024年度的胜负记录，把赢的场次和输的场次相加再乘3。注意：请用中文。', 'output': '246'}"
      ]
     },
     "execution_count": 11,
     "metadata": {},
     "output_type": "execute_result"
    }
   ],
   "source": [
    "from langchain_openai import ChatOpenAI\n",
    "from langchain.agents import create_react_agent\n",
    "from langchain.agents import AgentExecutor\n",
    "\n",
    "openai_llm = ChatOpenAI(model='gpt-4', temperature=0)\n",
    "agent = create_react_agent(openai_llm, tools, prompt)\n",
    "openai_agent_executor=AgentExecutor(agent=agent, tools=tools, verbose=True)\n",
    "openai_agent_executor.invoke({\"input\":\"NBA洛杉矶快船队2024年度的胜负记录，把赢的场次和输的场次相加再乘3。注意：请用中文。\"})"
   ]
  },
  {
   "cell_type": "markdown",
   "id": "ab49dad6-2cc3-4ed5-a035-67ac3bc92ea8",
   "metadata": {},
   "source": [
    "<div align=center><img src=\"https://muyu001.oss-cn-beijing.aliyuncs.com/img/image-20240709105718171.png\" width=100%></div>"
   ]
  },
  {
   "cell_type": "markdown",
   "id": "f129921f-f16b-43cd-9f8e-e39e39d7535c",
   "metadata": {},
   "source": [
    "&emsp;&emsp;如上所示的问题：当GLM-4模型无法正确的调用LangChain预置的`LLMMathChain`函数，而GPT模型确定稳定的输出结果，能够感觉到AI Agents 作为自主执行一系列复杂操作的角色，其中间任一环节出现问题都会导致整个流程的处理失败，其非常考验大模型的原生能力。"
   ]
  },
  {
   "cell_type": "markdown",
   "id": "a7f36e8f-3301-4f6a-8f98-2576257c8a0e",
   "metadata": {},
   "source": [
    "&emsp;&emsp;除此之外，针对于使用特定的模型（比如GLM-4），另一种生产环境更常用的方式就是对BaseTool 类进行子类化，从而对工具的行为进行更多控制，并希望定义自定义实例变量或传播回调。"
   ]
  },
  {
   "cell_type": "markdown",
   "id": "1643e99a-5461-41c8-8ce6-85d1efd9c630",
   "metadata": {},
   "source": [
    "- **子类化 BaseTool 类**"
   ]
  },
  {
   "cell_type": "markdown",
   "id": "7c8af5f1-19c4-4d86-9c05-661494939cec",
   "metadata": {},
   "source": [
    "&emsp;&emsp;通过子类化，可以定义其他方法、覆盖现有方法以及添加特定于您的工具的自定义实例变量，执行附加操作或根据某些条件修改工具的行为。"
   ]
  },
  {
   "cell_type": "markdown",
   "id": "4a6e3155-2690-437e-bb7d-347fe5b41671",
   "metadata": {},
   "source": [
    "> LangChain Docs：https://python.langchain.com/v0.1/docs/modules/tools/custom_tools/#subclassing-the-basetool-class"
   ]
  },
  {
   "cell_type": "markdown",
   "id": "9c6b308a-0a1e-477f-ac40-130c766fbcd5",
   "metadata": {},
   "source": [
    "&emsp;&emsp;LangChain 中的 `@tool` 装饰器通过一个简单的函数创建了一个自定义工具，使用 @tool 装饰器快速创建工具，无需高级自定义或定义自定义实例变量。 @tool 装饰器与 Tool 数据类的不同之处在于提供了一种更轻量级且基于函数的方法来创建 Tool。它允许直接在装饰函数中定义工具的功能，从而更容易封装特定的任务或操作。"
   ]
  },
  {
   "cell_type": "code",
   "execution_count": 80,
   "id": "98beb48c-a041-48ff-90c1-4cf7796f4c30",
   "metadata": {},
   "outputs": [],
   "source": [
    "@tool(\"lowercase_converter\", return_direct=True)\n",
    "def convert_to_lowercase(input: str) -> str:\n",
    "    \"\"\"Converts all uppercase characters in the input string to lowercase.\"\"\"\n",
    "    return input.lower()"
   ]
  },
  {
   "cell_type": "markdown",
   "id": "9f07e040-264a-4b1a-90ee-b291e99c4c50",
   "metadata": {},
   "source": [
    "&emsp;&emsp;这个 eval_expr 函数用于安全地计算一个数学表达式的值，其核心利用了 Python 的 ast（Abstract Syntax Tree，抽象语法树）模块。ast 模块可以将字符串形式的表达式转换成树形结构的节点，从而可以在没有执行实际代码的情况下分析和操作这些表达式。"
   ]
  },
  {
   "cell_type": "code",
   "execution_count": 81,
   "id": "9df404dd-6444-415c-81f6-f192ec98f01a",
   "metadata": {
    "scrolled": true
   },
   "outputs": [
    {
     "data": {
      "text/plain": [
       "[StructuredTool(name='lowercase_converter', description='Converts all uppercase characters in the input string to lowercase.', args_schema=<class 'pydantic.v1.main.lowercase_converterSchema'>, return_direct=True, func=<function convert_to_lowercase at 0x000002423076F9C0>)]"
      ]
     },
     "execution_count": 81,
     "metadata": {},
     "output_type": "execute_result"
    }
   ],
   "source": [
    "new_tools = [convert_to_lowercase]\n",
    "\n",
    "new_tools"
   ]
  },
  {
   "cell_type": "code",
   "execution_count": 82,
   "id": "34dd721c-ea3b-4c98-bdc0-31d9fabeaf0f",
   "metadata": {},
   "outputs": [],
   "source": [
    "from langchain.agents import create_react_agent\n",
    "from langchain.agents import AgentExecutor"
   ]
  },
  {
   "cell_type": "code",
   "execution_count": 83,
   "id": "8300de0a-995a-445c-af9d-ab0dfa440b0c",
   "metadata": {},
   "outputs": [],
   "source": [
    "llm = ChatZhipuAI(model='glm-4')"
   ]
  },
  {
   "cell_type": "code",
   "execution_count": 84,
   "id": "e4283633-2e34-439c-94c3-71c9ba71d1a7",
   "metadata": {},
   "outputs": [],
   "source": [
    "agent = create_react_agent(llm, new_tools, prompt)"
   ]
  },
  {
   "cell_type": "code",
   "execution_count": 85,
   "id": "7b80a0b0-fa82-4480-94fb-577488d4e358",
   "metadata": {},
   "outputs": [],
   "source": [
    "agent_executor=AgentExecutor(agent=agent, tools=new_tools, verbose=True)"
   ]
  },
  {
   "cell_type": "markdown",
   "id": "9e74415a-19cc-4b6c-a215-dcb8d944c083",
   "metadata": {},
   "source": [
    "&emsp;&emsp;现在，AI ReAct 代理已准备好被调用。可以进行尝试："
   ]
  },
  {
   "cell_type": "code",
   "execution_count": 87,
   "id": "51bb6014-465f-4441-ab31-dc5652704718",
   "metadata": {
    "scrolled": true
   },
   "outputs": [
    {
     "name": "stdout",
     "output_type": "stream",
     "text": [
      "\n",
      "\n",
      "\u001b[1m> Entering new AgentExecutor chain...\u001b[0m\n",
      "\u001b[32;1m\u001b[1;3mThe string appears to be random uppercase characters. The task is to convert all uppercase characters to lowercase. I will use the lowercase_converter tool for this.\n",
      "\n",
      "Action: lowercase_converter\n",
      "Action Input: ASDSDSADASFG\n",
      "Observation\u001b[0m\u001b[36;1m\u001b[1;3masdsdsadasfg\n",
      "observation\u001b[0m\n",
      "\u001b[32;1m\u001b[1;3m\u001b[0m\n",
      "\n",
      "\u001b[1m> Finished chain.\u001b[0m\n"
     ]
    },
    {
     "data": {
      "text/plain": [
       "{'input': 'ASDSDSADASFG', 'output': 'asdsdsadasfg\\nobservation'}"
      ]
     },
     "execution_count": 87,
     "metadata": {},
     "output_type": "execute_result"
    }
   ],
   "source": [
    "agent_executor.invoke({\"input\":\"ASDSDSADASFG\"})"
   ]
  },
  {
   "cell_type": "markdown",
   "id": "f2de10ce-02b4-40eb-99e7-77b4f1d4c11e",
   "metadata": {},
   "source": [
    "# 三、TOT 提示"
   ]
  },
  {
   "cell_type": "markdown",
   "id": "c892b98d-0a32-4797-abea-8726453362a7",
   "metadata": {},
   "source": [
    "&emsp;&emsp;思想链 (CoT) 为即时工程实践带来了非常大的影响。CoT 的基本原则非常强大，足以承受四个核心组件的变化：\n",
    "- Bridge Objects（桥接对象）\n",
    "- Langauge Template（提示模板）\n",
    "- Coherence（连贯性）\n",
    "- Relevance（关联）"
   ]
  },
  {
   "cell_type": "markdown",
   "id": "1cbd053b-b965-4a77-bd65-463d58d28bff",
   "metadata": {},
   "source": [
    "<div align=center><img src=\"https://muyu001.oss-cn-beijing.aliyuncs.com/img/image-20240709125215630.png\" width=100%></div>"
   ]
  },
  {
   "cell_type": "markdown",
   "id": "5eb1f2d1-c5cb-40a4-a69c-98c0c4ae43c1",
   "metadata": {},
   "source": [
    "&emsp;&emsp;所以在随后的一段时间内，在 CoT 的原理的基础上就出现了一系列的优化和变种。还有一些方法可以生成多个结果，然后由投票系统决定最准确和相关的答案。这就是TOT（思想树）。"
   ]
  },
  {
   "cell_type": "markdown",
   "id": "b6b18da4-f4ec-4f97-b4c6-0bd4130c4418",
   "metadata": {},
   "source": [
    "&emsp;&emsp;ToT 的基本原则是：\n",
    "- 当 LLM 遇到需要解决的复杂问题时，它在推理时仅限于令牌级别、从左到右的过程。\n",
    "- 用户查询必须分解为单独的想法，并且这些想法需要以矩阵方法来探索，而不是更线性的基本 CoT 方法。\n",
    "- ToT 创造了一些选择，而不是仅仅选择一个，并评估其当前状态，并积极向前或回溯以做出更多的全局决策。"
   ]
  },
  {
   "cell_type": "markdown",
   "id": "d339194c-65c6-41db-a813-ae9e8728d66f",
   "metadata": {},
   "source": [
    "&emsp;&emsp;ToT 引入的关键要素是探索可能的解决方案和战略前瞻性的要素，允许 LLM 通过考虑多种不同的推理路径和自我评估选择来执行深思熟虑的决策，以决定下一步的行动方案，并在必要时向前看或回溯以做出全局选择。"
   ]
  },
  {
   "cell_type": "markdown",
   "id": "6245a566-1da2-4642-b88f-85606f309dc4",
   "metadata": {},
   "source": [
    "<div align=center><img src=\"https://muyu001.oss-cn-beijing.aliyuncs.com/img/image-20240709125605470.png\" width=100%></div>"
   ]
  },
  {
   "cell_type": "markdown",
   "id": "48ac2960-6094-4dd4-92af-7ad247b6c1a0",
   "metadata": {},
   "source": [
    "&emsp;&emsp;ToT 的具体实例涉及回答四个问题：\n",
    "- 如何将中间过程分解为思维步骤。\n",
    "- 如何从每个状态产生潜在的想法。\n",
    "- 如何启发式评估状态。\n",
    "- 使用什么搜索算法。"
   ]
  },
  {
   "cell_type": "markdown",
   "id": "b12c4829-f240-4fa3-a79e-9a91e6c5fec3",
   "metadata": {},
   "source": [
    "&emsp;&emsp;ToT 维护着一棵思维树，思维由连贯的语言序列表示，这个序列就是解决问题的中间步骤。使用这种方法，LM 能够自己对严谨推理过程的中间思维进行评估。LM 将生成及评估思维的能力与搜索算法（如广度优先搜索和深度优先搜索）相结合，在系统性探索思维的时候可以向前验证和回溯。"
   ]
  },
  {
   "cell_type": "markdown",
   "id": "4769b5e7-c35b-4950-8063-f550d43f547c",
   "metadata": {},
   "source": [
    "&emsp;&emsp;ToT 框架的主要概念概括成了一段简短的提示词，指导 LLM 在一次提示中对中间思维做出评估。ToT 提示词的例子如下：\n",
    "```json\n",
    "假设三位不同的专家来回答这个问题。\r\n",
    "所有专家都写下他们思考这个问题的第一个步骤，然后与大家分享。\r\n",
    "然后，所有专家都写下他们思考的下一个步骤并分享。\r\n",
    "以此类推，直到所有专家写完他们思考的所有步骤。\r\n",
    "只要大家发现有专家的步骤出错了，就让这位专家离开。\r\n",
    "请问...\n",
    "```"
   ]
  },
  {
   "cell_type": "markdown",
   "id": "173e465c-5b35-410d-9bb0-03befef9e709",
   "metadata": {},
   "source": [
    "> LangChain TOT Docs：https://api.python.langchain.com/en/latest/tot/langchain_experimental.tot.base.ToTChain.html"
   ]
  },
  {
   "cell_type": "code",
   "execution_count": 20,
   "id": "436fcad3-677f-451f-a67c-60c537d66167",
   "metadata": {},
   "outputs": [
    {
     "name": "stdout",
     "output_type": "stream",
     "text": [
      "3,*,*,2|1,*,3,*|*,1,*,3|4,*,*,1\n",
      "\n",
      "- This is a 4x4 Sudoku puzzle.\n",
      "- The * represents a cell to be filled.\n",
      "- The | character separates rows.\n",
      "- At each step, replace one or more * with digits 1-4.\n",
      "- There must be no duplicate digits in any row, column or 2x2 subgrid.\n",
      "- Keep the known digits from previous valid thoughts in place.\n",
      "- Each thought can be a partial or the final solution.\n"
     ]
    }
   ],
   "source": [
    "sudoku_puzzle = \"3,*,*,2|1,*,3,*|*,1,*,3|4,*,*,1\"\n",
    "sudoku_solution = \"3,4,1,2|1,2,3,4|2,1,4,3|4,3,2,1\"\n",
    "problem_description = f\"\"\"\n",
    "{sudoku_puzzle}\n",
    "\n",
    "- This is a 4x4 Sudoku puzzle.\n",
    "- The * represents a cell to be filled.\n",
    "- The | character separates rows.\n",
    "- At each step, replace one or more * with digits 1-4.\n",
    "- There must be no duplicate digits in any row, column or 2x2 subgrid.\n",
    "- Keep the known digits from previous valid thoughts in place.\n",
    "- Each thought can be a partial or the final solution.\n",
    "\"\"\".strip()\n",
    "print(problem_description)"
   ]
  },
  {
   "cell_type": "code",
   "execution_count": 22,
   "id": "1efe8b67-d526-46a0-888f-d74abe1e55ec",
   "metadata": {},
   "outputs": [],
   "source": [
    "sudoku_puzzle = \"3,*,*,2|1,*,3,*|*,1,*,3|4,*,*,1\"\n",
    "sudoku_solution = \"3,4,1,2|1,2,3,4|2,1,4,3|4,3,2,1\"\n",
    "problem_description_cn = f\"\"\"\n",
    "{sudoku_puzzle}\n",
    "\n",
    "- 这是一个4x4的数独谜题。\n",
    "- “*”代表需要填写的单元格。\n",
    "- “|”字符用来分隔行。\n",
    "- 每一步，用数字1-4替换一个或多个“*”。\n",
    "- 任何行、列或2x2子网格中不能有重复的数字。\n",
    "- 保持前一个有效思考中的已知数字不变。\n",
    "- 每个思考可以是部分解决方案或最终解决方案。\n",
    "\"\"\".strip()"
   ]
  },
  {
   "cell_type": "code",
   "execution_count": 23,
   "id": "6a45a25a-4a41-4850-97b1-b70f4d2e72f4",
   "metadata": {},
   "outputs": [
    {
     "name": "stdout",
     "output_type": "stream",
     "text": [
      "3,*,*,2|1,*,3,*|*,1,*,3|4,*,*,1\n",
      "\n",
      "- 这是一个4x4的数独谜题。\n",
      "- “*”代表需要填写的单元格。\n",
      "- “|”字符用来分隔行。\n",
      "- 每一步，用数字1-4替换一个或多个“*”。\n",
      "- 任何行、列或2x2子网格中不能有重复的数字。\n",
      "- 保持前一个有效思考中的已知数字不变。\n",
      "- 每个思考可以是部分解决方案或最终解决方案。\n"
     ]
    }
   ],
   "source": [
    "print(problem_description_cn)"
   ]
  },
  {
   "cell_type": "markdown",
   "id": "9645e615-b354-4d75-bc4c-02d3555a0980",
   "metadata": {},
   "source": [
    "&emsp;&emsp;定义基于规则的检查器:"
   ]
  },
  {
   "cell_type": "markdown",
   "id": "2e0c1c1f-4bdc-4451-8dfe-c234f23c567b",
   "metadata": {},
   "source": [
    "&emsp;&emsp;每个想法都会由thought checker 进行评估，并被赋予一个有效性类型：\n",
    "- valid（有效的）\n",
    "- invalid or （无效或）\n",
    "- partial. （部分的）"
   ]
  },
  {
   "cell_type": "markdown",
   "id": "0ba01b2e-4d23-46c3-9615-aa04314903c0",
   "metadata": {},
   "source": [
    "&emsp;&emsp;简单的检查器可以是基于规则的。例如，在数独谜题的情况下，检查者可以检查谜题是否有效、无效或部分"
   ]
  },
  {
   "cell_type": "code",
   "execution_count": 46,
   "id": "acd907ba-c92d-4454-a9af-ca742182ccad",
   "metadata": {},
   "outputs": [],
   "source": [
    "# pip install langchain_experimental"
   ]
  },
  {
   "cell_type": "code",
   "execution_count": 24,
   "id": "6cf91593-7691-4b7b-bc86-b72568b4574f",
   "metadata": {},
   "outputs": [],
   "source": [
    "import re\n",
    "from typing import Tuple\n",
    "\n",
    "from langchain_experimental.tot.checker import ToTChecker\n",
    "from langchain_experimental.tot.thought import ThoughtValidity\n",
    "\n",
    "\n",
    "class MyChecker(ToTChecker):\n",
    "    def evaluate(\n",
    "        self, problem_description: str, thoughts: Tuple[str, ...] = ()\n",
    "    ) -> ThoughtValidity:\n",
    "        last_thought = thoughts[-1]\n",
    "        clean_solution = last_thought.replace(\" \", \"\").replace('\"', \"\")\n",
    "        regex_solution = clean_solution.replace(\"*\", \".\").replace(\"|\", \"\\\\|\")\n",
    "        if sudoku_solution in clean_solution:\n",
    "            return ThoughtValidity.VALID_FINAL\n",
    "        elif re.search(regex_solution, sudoku_solution):\n",
    "            return ThoughtValidity.VALID_INTERMEDIATE\n",
    "        else:\n",
    "            return ThoughtValidity.INVALID"
   ]
  },
  {
   "cell_type": "code",
   "execution_count": 25,
   "id": "06fc7e44-79cc-4763-9015-67c94025b0f2",
   "metadata": {},
   "outputs": [],
   "source": [
    "checker = MyChecker()\n",
    "\n",
    "assert (\n",
    "    checker.evaluate(\"\", (\"3,*,*,2|1,*,3,*|*,1,*,3|4,*,*,1\",))\n",
    "    == ThoughtValidity.VALID_INTERMEDIATE\n",
    ")\n",
    "assert (\n",
    "    checker.evaluate(\"\", (\"3,4,1,2|1,2,3,4|2,1,4,3|4,3,2,1\",))\n",
    "    == ThoughtValidity.VALID_FINAL\n",
    ")\n",
    "assert (\n",
    "    checker.evaluate(\"\", (\"3,4,1,2|1,2,3,4|2,1,4,3|4,3,*,1\",))\n",
    "    == ThoughtValidity.VALID_INTERMEDIATE\n",
    ")\n",
    "assert (\n",
    "    checker.evaluate(\"\", (\"3,4,1,2|1,2,3,4|2,1,4,3|4,*,3,1\",))\n",
    "    == ThoughtValidity.INVALID\n",
    ")"
   ]
  },
  {
   "cell_type": "markdown",
   "id": "da40bd8c-6579-46ad-96f6-bd8d97ab736f",
   "metadata": {},
   "source": [
    "&emsp;&emsp;Tree of Thought Chain 初始化并运行 ToT 链，最大交互数 k 设置为 20，最大子想法数 c 设置为 3。"
   ]
  },
  {
   "cell_type": "code",
   "execution_count": 27,
   "id": "45b21837-0d31-4d04-8494-0af36f52f356",
   "metadata": {},
   "outputs": [
    {
     "name": "stderr",
     "output_type": "stream",
     "text": [
      "C:\\Users\\snowb\\anaconda3\\Lib\\site-packages\\langchain_core\\_api\\deprecation.py:139: LangChainDeprecationWarning: The method `Chain.run` was deprecated in langchain 0.1.0 and will be removed in 0.3.0. Use invoke instead.\n",
      "  warn_deprecated(\n",
      "C:\\Users\\snowb\\anaconda3\\Lib\\site-packages\\langchain\\chains\\llm.py:341: UserWarning: The predict_and_parse method is deprecated, instead pass an output parser directly to LLMChain.\n",
      "  warnings.warn(\n"
     ]
    },
    {
     "name": "stdout",
     "output_type": "stream",
     "text": [
      "\n",
      "\n",
      "\u001b[1m> Entering new ToTChain chain...\u001b[0m\n",
      "Starting the ToT solve procedure.\n",
      "\u001b[33;1m\u001b[1;3mThought: 3,*,*,2|1,*,3,4|*,1,*,3|4,*,*,1\n",
      "\u001b[0m"
     ]
    },
    {
     "name": "stderr",
     "output_type": "stream",
     "text": [
      "C:\\Users\\snowb\\anaconda3\\Lib\\site-packages\\langchain\\chains\\llm.py:341: UserWarning: The predict_and_parse method is deprecated, instead pass an output parser directly to LLMChain.\n",
      "  warnings.warn(\n"
     ]
    },
    {
     "name": "stdout",
     "output_type": "stream",
     "text": [
      "\u001b[31;1m\u001b[1;3m    Thought: 3,*,4,2|1,*,3,4|*,1,*,3|4,*,*,1\n",
      "\u001b[0m\u001b[33;1m\u001b[1;3m    Thought: 3,*,*,2|1,2,3,4|*,1,*,3|4,*,*,1\n",
      "\u001b[0m"
     ]
    },
    {
     "name": "stderr",
     "output_type": "stream",
     "text": [
      "C:\\Users\\snowb\\anaconda3\\Lib\\site-packages\\langchain\\chains\\llm.py:341: UserWarning: The predict_and_parse method is deprecated, instead pass an output parser directly to LLMChain.\n",
      "  warnings.warn(\n"
     ]
    },
    {
     "name": "stdout",
     "output_type": "stream",
     "text": [
      "\u001b[33;1m\u001b[1;3m        Thought: 3,4,1,2|1,2,3,4|*,1,*,3|4,*,*,1\n",
      "\u001b[0m"
     ]
    },
    {
     "name": "stderr",
     "output_type": "stream",
     "text": [
      "C:\\Users\\snowb\\anaconda3\\Lib\\site-packages\\langchain\\chains\\llm.py:341: UserWarning: The predict_and_parse method is deprecated, instead pass an output parser directly to LLMChain.\n",
      "  warnings.warn(\n"
     ]
    },
    {
     "name": "stdout",
     "output_type": "stream",
     "text": [
      "\u001b[32;1m\u001b[1;3m            Thought: 3,4,1,2|1,2,3,4|2,1,4,3|4,3,2,1\n",
      "\u001b[0m\n",
      "\u001b[1m> Finished chain.\u001b[0m\n"
     ]
    },
    {
     "data": {
      "text/plain": [
       "'3,4,1,2|1,2,3,4|2,1,4,3|4,3,2,1'"
      ]
     },
     "execution_count": 27,
     "metadata": {},
     "output_type": "execute_result"
    }
   ],
   "source": [
    "from langchain_experimental.tot.base import ToTChain\n",
    "\n",
    "tot_chain = ToTChain(\n",
    "    llm=openai_llm, checker=MyChecker(), k=20, c=3, verbose=True, verbose_llm=False\n",
    ")\n",
    "\n",
    "tot_chain.run(problem_description=problem_description)"
   ]
  }
 ],
 "metadata": {
  "kernelspec": {
   "display_name": "Python 3 (ipykernel)",
   "language": "python",
   "name": "python3"
  },
  "language_info": {
   "codemirror_mode": {
    "name": "ipython",
    "version": 3
   },
   "file_extension": ".py",
   "mimetype": "text/x-python",
   "name": "python",
   "nbconvert_exporter": "python",
   "pygments_lexer": "ipython3",
   "version": "3.11.7"
  }
 },
 "nbformat": 4,
 "nbformat_minor": 5
}
