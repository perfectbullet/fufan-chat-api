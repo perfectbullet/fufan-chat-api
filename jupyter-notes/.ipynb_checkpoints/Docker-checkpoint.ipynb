{
 "cells": [
  {
   "cell_type": "markdown",
   "id": "d62eb182-d3fc-4ba8-b354-0ceea20dba7b",
   "metadata": {},
   "source": [
    "# <center>Docker"
   ]
  },
  {
   "cell_type": "markdown",
   "id": "0df03542-5d29-437f-9e52-149745dff826",
   "metadata": {},
   "source": [
    "&emsp;&emsp;Docker 是一个开源平台，目的是使开发人员能够轻松高效地构建、部署、运行、更新和管理容器化应用程序。该平台于 2013 年 3 月由 DotCloud（现为 Docker, Inc.）首次发布。 Docker 背后的想法是**创建一种轻量级、可移植且高效的方式来跨不同环境一致地打包和运行应用程序**。这是受到运输容器概念的启发，其中应用程序及其依赖项被打包到可以轻松移动和部署的标准化容器中。这里就需要先搞清楚两个概念："
   ]
  },
  {
   "cell_type": "markdown",
   "id": "833452a6-a6a6-4604-9724-5df662a7dfa5",
   "metadata": {},
   "source": [
    "- **什么是Containers（容器）**"
   ]
  },
  {
   "cell_type": "markdown",
   "id": "30aa91d1-87e0-447c-b4d7-d0f11b003167",
   "metadata": {},
   "source": [
    "&emsp;&emsp;容器是轻量级、独立且可执行的软件包，其中包含运行软件所需的一切，包括代码、运行时、系统工具、库和设置。容器将软件与其环境隔离，并确保其统一工作，尽管开发和平台之间存在差异，但Docker允许我们将应用程序及其所有依赖项和库打包到一个单元中，该单元可以在任何具有容器运行时的计算机（例如 Docker）上运行。"
   ]
  },
  {
   "cell_type": "markdown",
   "id": "e14cb44a-5b9c-4cbb-869f-66a1ad7fefd1",
   "metadata": {},
   "source": [
    "- **什么是Containerization（容器化）**"
   ]
  },
  {
   "cell_type": "markdown",
   "id": "80631fb6-6203-46fd-a0ab-c9c2e2e241a8",
   "metadata": {},
   "source": [
    "&emsp;&emsp;容器化是将软件代码及其依赖项打包的过程，以便它可以在任何基础设施上统一、一致地运行。这种方法确保应用程序从一个计算环境转移到另一个计算环境时可以轻松部署并可靠运行。这样做的好处是：\n",
    "1. 一致性：应用程序无论在何处运行，其行为都相同。\n",
    "2. 效率：容器是轻量级的，共享主机操作系统内核，比虚拟机使用更少的系统资源。\n",
    "3. 可扩展性：随着应用程序大小的逐渐增长，轻松扩展和缩小应用程序。\n",
    "4. 隔离：每个容器运行在独立的环境中，提高安全性和稳定性。"
   ]
  },
  {
   "cell_type": "markdown",
   "id": "64d0b129-46ec-43c8-baa8-f2a0b76a145b",
   "metadata": {},
   "source": [
    "&emsp;&emsp;所以 Docker 的出现彻底改变了开发、发布和运行应用程序的方式。它使开发人员能够将应用程序打包到容器中 - 标准化的可执行组件，将应用程序源代码与在任何环境中运行该代码所需的操作系统 (OS) 库和依赖项结合起来。如下图所示："
   ]
  },
  {
   "cell_type": "markdown",
   "id": "f3fcf454-d6a8-4657-9c86-462e12a89c48",
   "metadata": {},
   "source": [
    "<div align=center><img src=\"https://muyu001.oss-cn-beijing.aliyuncs.com/img/image-20240710142310141.png\" width=60%></div>"
   ]
  },
  {
   "cell_type": "markdown",
   "id": "85d2ff11-aa07-4221-ba9a-acb4d2da1d25",
   "metadata": {},
   "source": [
    "&emsp;&emsp;Docker 可用于多种平台，包括 Windows、macOS 和 Linux。在使用之前，需要先Docker将其安装到系统上。我们这里以Ubuntu操作系统为例进行介绍。 "
   ]
  },
  {
   "cell_type": "markdown",
   "id": "557d1eb8-c7cf-4b6a-9500-3a4905268061",
   "metadata": {},
   "source": [
    "# 一、安装Docker"
   ]
  },
  {
   "cell_type": "markdown",
   "id": "1da80915-2f90-40d4-89f6-e2fead1920d8",
   "metadata": {},
   "source": [
    "&emsp;&emsp;在Ubuntu系统上检查是否安装了Docker的方法为：在终端中输入以下命令，然后按回车键：\n",
    "```bash\n",
    "   docker --version\n",
    "```"
   ]
  },
  {
   "cell_type": "markdown",
   "id": "8c19b7d1-e6bc-44fe-8dc3-f6178ed1a6af",
   "metadata": {},
   "source": [
    "&emsp;&emsp;如果系统上没有安装Docker，终端会显示类似于“command not found”的错误消息。"
   ]
  },
  {
   "cell_type": "markdown",
   "id": "38ded543-0d0d-4d2e-a3df-c2366007ca58",
   "metadata": {},
   "source": [
    "<div align=center><img src=\"https://muyu001.oss-cn-beijing.aliyuncs.com/img/image-20240710143328450.png\" width=100%></div>"
   ]
  },
  {
   "cell_type": "markdown",
   "id": "c6afb1ce-6cca-4d3e-84f3-f48fdfab4c8d",
   "metadata": {},
   "source": [
    "&emsp;&emsp;如果安装了Docker，这个命令会显示Docker的版本信息。例如："
   ]
  },
  {
   "cell_type": "markdown",
   "id": "2bbb1bb7-6175-404a-8a00-260c2dae0a4c",
   "metadata": {},
   "source": [
    "<div align=center><img src=\"https://muyu001.oss-cn-beijing.aliyuncs.com/img/image-20240710143408202.png\" width=100%></div>"
   ]
  },
  {
   "cell_type": "markdown",
   "id": "19c567be-e979-47aa-bb31-41f2eb3adccb",
   "metadata": {},
   "source": [
    "&emsp;&emsp;对于未安装Docker的情况，我们可以按照官方网站上适合当前操作系统的说明进行操作。Docker：https://docs.docker.com/engine/install/ubuntu/"
   ]
  },
  {
   "cell_type": "markdown",
   "id": "4e567fc6-6269-44a3-b58f-47392be423a8",
   "metadata": {},
   "source": [
    "<div align=center><img src=\"https://muyu001.oss-cn-beijing.aliyuncs.com/img/image-20240710143830225.png\" width=100%></div>"
   ]
  },
  {
   "cell_type": "markdown",
   "id": "c2c9302a-b8b4-4690-b809-03e50305640c",
   "metadata": {},
   "source": [
    "&emsp;&emsp;在安装 Docker Engine 之前，需要卸载所有冲突的软件包。代码如下：\n",
    "```bash\n",
    "for pkg in docker.io docker-doc docker-compose docker-compose-v2 podman-docker containerd runc; do sudo apt-get remove $pkg; done\n",
    "\n",
    "```"
   ]
  },
  {
   "cell_type": "markdown",
   "id": "80845f84-f87e-42ac-812e-6357cbd07ca4",
   "metadata": {},
   "source": [
    "<div align=center><img src=\"https://muyu001.oss-cn-beijing.aliyuncs.com/img/image-20240710144056324.png\" width=100%></div>"
   ]
  },
  {
   "cell_type": "markdown",
   "id": "f6a74b2f-a9df-415c-b898-5f8fb96e46c8",
   "metadata": {},
   "source": [
    "&emsp;&emsp;按照官方的操作下载安装即可："
   ]
  },
  {
   "cell_type": "markdown",
   "id": "ba3fa6ec-891f-4473-98d4-ddd9da562d7a",
   "metadata": {},
   "source": [
    "<div align=center><img src=\"https://muyu001.oss-cn-beijing.aliyuncs.com/img/image-20240710145238392.png\" width=100%></div>"
   ]
  },
  {
   "cell_type": "markdown",
   "id": "d651db41-960e-41a0-b56e-c9a3415f8d13",
   "metadata": {},
   "source": [
    "&emsp;&emsp;安装后，验证 Docker 是否正在运行：\n",
    "\n",
    "```bash\n",
    "docker — version\n",
    "```"
   ]
  },
  {
   "cell_type": "markdown",
   "id": "990851ed-46af-4936-97ad-639b6f15811c",
   "metadata": {},
   "source": [
    "<div align=center><img src=\"https://muyu001.oss-cn-beijing.aliyuncs.com/img/image-20240710143408202.png\" width=100%></div>"
   ]
  },
  {
   "cell_type": "markdown",
   "id": "182fbe7e-81e9-453f-b697-6b239666095b",
   "metadata": {},
   "source": [
    "# 二、Docker的整体架构"
   ]
  },
  {
   "cell_type": "markdown",
   "id": "36592ec9-302c-4d0d-9f23-2e975d8cd076",
   "metadata": {},
   "source": [
    "&emsp;&emsp;Docker 使用具有几个关键组件的客户端-服务器架构，分别如下："
   ]
  },
  {
   "cell_type": "markdown",
   "id": "f2536bcb-68f0-4e79-8725-f0ea473deea8",
   "metadata": {},
   "source": [
    "| Component           | Description |\n",
    "|---------------------|-------------|\n",
    "| **Docker Client**   | 允许用户与 Docker 交互的命令行界面 (CLI) 工具。它与 Docker 守护进程通信以执行命令。 |\n",
    "| **Docker Daemon (or Docker Engine)** | Docker Engine 是一种开源容器化技术，允许开发人员将应用程序打包到容器中。容器是标准化的可执行组件，将应用程序源代码与操作系统 (OS) 库以及在任何环境中运行该代码所需的依赖项相结合。它监听 Docker API 请求并相应地处理它们。 |\n",
    "| **containerd**      | 管理容器生命周期的核心组件，包括启动、停止和管理容器进程。 |\n",
    "| **runc**            | 一个轻量级 CLI 工具，用于根据开放容器计划 (OCI) 规范创建和运行容器。 |\n",
    "| **Docker Registry** | 存储和分发Docker镜像的服务。 Docker Hub 是默认的公共注册表，但也可以使用私有注册表。它与 github 类似，但镜像许您推送图像而不是源代码。 |\n",
    "| **Docker Networking** | 为容器提供网络功能，使它们能够相互通信以及与外界通信。 |\n",
    "| **Docker Volumes and Bind Mounts** | 实现容器和主机系统之间的数据持久化和共享。 |\n",
    "| **Docker Compose**  | 一种使用 YAML 文件定义和运行多容器应程序的工具。 |\n"
   ]
  },
  {
   "cell_type": "markdown",
   "id": "87cbdf5b-255c-400c-9239-afb703380f14",
   "metadata": {},
   "source": [
    "&emsp;&emsp;Docker在运行应用程序时，其过程如下："
   ]
  },
  {
   "cell_type": "markdown",
   "id": "ca074bdf-cbf1-4394-b128-29a69549dd0a",
   "metadata": {},
   "source": [
    "<div align=center><img src=\"https://muyu001.oss-cn-beijing.aliyuncs.com/img/image-20240710150101153.png\" width=70%></div>"
   ]
  },
  {
   "cell_type": "markdown",
   "id": "08527128-21a6-4651-904d-1f42e69074ef",
   "metadata": {},
   "source": [
    "&emsp;&emsp;首先，Docker 客户端向 Docker 守护进程发送构建请求，Docker 守护进程根据 Dockerfile 中的指令创建镜像，镜像存储在 Docker 注册表（公共或私有）中，可以从那里下载和共享，Docker客户端请求Docker守护进程基于镜像创建并运行容器。"
   ]
  },
  {
   "cell_type": "markdown",
   "id": "4710e308-0856-402e-a4f8-684aaaba9f91",
   "metadata": {},
   "source": [
    "&emsp;&emsp;总结来说，Docker 的工作流程是，首先从 Docker 仓库中获取 Docker 镜像，然后用这个镜像创建 Docker 容器，最后对容器进行操作（启动、停止等）。Docker三大核心概念：【镜像】、【容器】、【仓库】。"
   ]
  },
  {
   "cell_type": "markdown",
   "id": "fe3aead0-7e76-4925-8345-bafc08085c39",
   "metadata": {},
   "source": [
    "- **Docker Images**"
   ]
  },
  {
   "cell_type": "markdown",
   "id": "b2c86ba1-8927-4d0f-921f-af438d71934c",
   "metadata": {},
   "source": [
    "&emsp;&emsp;Docker 镜像是一个轻量级、独立的可执行包，可以被认为是 【容器】的模板。像是用于创建 Docker 容器的基。\n",
    "简单来说，Docker 镜像就是一个只读的模板，用来创建 Docker 容器，一个镜像可以创多\n",
    "个器。\n",
    "镜像包含了运行容器所需的所有内容，包括代码、运行时、库、环境变量和配置取镜像："
   ]
  },
  {
   "cell_type": "markdown",
   "id": "051903fb-2703-4f63-adc6-2752d41b25a3",
   "metadata": {},
   "source": [
    "- **Container**"
   ]
  },
  {
   "cell_type": "markdown",
   "id": "d45348d1-e675-46d1-8a0f-cc7b97ac5b62",
   "metadata": {},
   "source": [
    "&emsp;&emsp;Docker 容器（Container）是 Docker 镜像（Image）运行时的实体。容器可以被【启动】、【停止】、【暂停】、【修改】等。每个容器都有自己的文件系统，每个容器之间运行的进程都是【独立的】的。"
   ]
  },
  {
   "cell_type": "markdown",
   "id": "cab6611a-9cbe-4721-b4c2-1d921f9a009c",
   "metadata": {},
   "source": [
    "- **Docker Repository**"
   ]
  },
  {
   "cell_type": "markdown",
   "id": "2c24f970-e5ab-41f7-ae69-78220027b5f8",
   "metadata": {},
   "source": [
    "> Docker Docs：https://docs.docker.com/"
   ]
  },
  {
   "cell_type": "markdown",
   "id": "ef18e7e2-3d37-47a5-9012-764db197fe97",
   "metadata": {},
   "source": [
    "<div align=center><img src=\"https://muyu001.oss-cn-beijing.aliyuncs.com/img/image-20240710151117786.png\" width=100%></div>"
   ]
  },
  {
   "cell_type": "markdown",
   "id": "3b46cba1-c5f7-4cb3-a26e-e724afbe34ce",
   "metadata": {},
   "source": [
    "&emsp;&emsp;Docker 仓库（Repository）是用来【保存镜像】的地方。Docker 仓库可以被认为是代码控制中的代码仓库一样。Docker 用户可以在仓库中创建一个账户，存储和分享自己的镜像。也可以从 Docker 仓库中下载别人分享的镜像。\n",
    "\n",
    "&emsp;&emsp;Docker 仓库分为公开和私有两种形式：\n",
    "\n",
    "- 公开的 Docker 仓库是 Docker 公司提供的，可以被所有用户使用。【DockerHub】就是最知名的公开 Docker 仓库。\n",
    "- 私有的 Docker 仓库可以在本地部署，只能被【内部用户】使用。"
   ]
  },
  {
   "cell_type": "markdown",
   "id": "34215492-dd64-432c-9549-d2ca0994aaf0",
   "metadata": {},
   "source": [
    "&emsp;&emsp;比如，我们可以从 Docker Hub 拉取镜像：\n",
    "\n",
    "```bash\n",
    "docker pull hello-world\n",
    "\n",
    "```"
   ]
  },
  {
   "cell_type": "markdown",
   "id": "bdab1aff-af67-4255-9c27-70ae3ca0c2d0",
   "metadata": {},
   "source": [
    "<div align=center><img src=\"https://muyu001.oss-cn-beijing.aliyuncs.com/img/image-20240710151820305.png\" width=100%></div>"
   ]
  },
  {
   "cell_type": "markdown",
   "id": "c84af9c7-5942-44da-94d4-24bf635c6255",
   "metadata": {},
   "source": [
    "&emsp;&emsp;拉取镜像后，可以使用 docker run 命令轻松运行镜像。\n",
    "\n",
    "```bash\n",
    "docker run hello-world\n",
    "```"
   ]
  },
  {
   "cell_type": "markdown",
   "id": "c7e777c5-5d1d-455f-9c4b-1ef0cf5d32e2",
   "metadata": {},
   "source": [
    "<div align=center><img src=\"https://muyu001.oss-cn-beijing.aliyuncs.com/img/image-20240710151919615.png\" width=100%></div>"
   ]
  },
  {
   "cell_type": "markdown",
   "id": "6fb534f3-6de7-4404-bf11-839e19726069",
   "metadata": {},
   "source": [
    "&emsp;&emsp;这个过程中，docker 镜像和容器之间的区别可以想象为，容器是当你从 github 获得的一些源代码在你的机器上实际执行时，而镜像是你在 github 上的代码库。"
   ]
  },
  {
   "cell_type": "markdown",
   "id": "f016f5ac-76e5-4fce-80d2-b6ac095ff032",
   "metadata": {},
   "source": [
    "<div align=center><img src=\"https://muyu001.oss-cn-beijing.aliyuncs.com/img/image-20240710152046315.png\" width=60%></div>"
   ]
  },
  {
   "cell_type": "markdown",
   "id": "b6627803-369f-4503-b947-6d06718b2562",
   "metadata": {},
   "source": [
    "# 三、Docker的基本命令"
   ]
  },
  {
   "cell_type": "markdown",
   "id": "8f740747-c788-4805-8ef3-f029bf826143",
   "metadata": {},
   "source": [
    "&emsp;&emsp;首先，我们可以查看 Docker 服务的运行状态：\n",
    "\n",
    "```bash\n",
    "systemctl status docker\n",
    "```"
   ]
  },
  {
   "cell_type": "markdown",
   "id": "a9df2bae-59a8-4b3e-b03a-fadbb65cf004",
   "metadata": {},
   "source": [
    "<div align=center><img src=\"https://muyu001.oss-cn-beijing.aliyuncs.com/img/image-20240710152448062.png\" width=100%></div>"
   ]
  },
  {
   "cell_type": "markdown",
   "id": "7f8ac34d-cdad-4709-94f0-f55a29930fe4",
   "metadata": {},
   "source": [
    "&emsp;&emsp;接下来，查看本地的 Docker 镜像：\n",
    "\n",
    "```bash\n",
    "docker images\n",
    "```"
   ]
  },
  {
   "cell_type": "markdown",
   "id": "0c47f463-bbb1-4727-88a8-88b61e8628d5",
   "metadata": {},
   "source": [
    "<div align=center><img src=\"https://muyu001.oss-cn-beijing.aliyuncs.com/img/image-20240710152622424.png\" width=100%></div>"
   ]
  },
  {
   "cell_type": "markdown",
   "id": "bd282a16-c4a6-43f7-bbcc-e280388cafe3",
   "metadata": {},
   "source": [
    "&emsp;&emsp;从 Docker Hub 拉取 Ubuntu 基础镜像：\n",
    "\n",
    "```bash\n",
    "docker search ubuntu\n",
    "docker pull ubuntu\n",
    "```"
   ]
  },
  {
   "cell_type": "markdown",
   "id": "f138e6b7-ccf6-4519-868d-3a61f3e85812",
   "metadata": {},
   "source": [
    "<div align=center><img src=\"https://muyu001.oss-cn-beijing.aliyuncs.com/img/image-20240710152725841.png\" width=100%></div>"
   ]
  },
  {
   "cell_type": "markdown",
   "id": "0d9e53cd-dc1b-4b2d-ab77-52a18ca500e2",
   "metadata": {},
   "source": [
    "&emsp;&emsp;再次查看本地镜像确认是否拉取成功：\n",
    "\n",
    "```bash\n",
    "docker images\n",
    "docker image ls\n",
    "```"
   ]
  },
  {
   "cell_type": "markdown",
   "id": "31fcbb29-775a-476b-bf04-958f09ade714",
   "metadata": {},
   "source": [
    "<div align=center><img src=\"https://muyu001.oss-cn-beijing.aliyuncs.com/img/image-20240710152802380.png\" width=100%></div>"
   ]
  },
  {
   "cell_type": "markdown",
   "id": "53980a75-6cab-41b1-851b-19efe7ea2c13",
   "metadata": {},
   "source": [
    "&emsp;&emsp;使用刚刚拉取的 ubuntu 镜像构建并交互式运行容器，同时在容器中执行 `ls` 命令：\n",
    "\n",
    "```bash\n",
    "docker run -it ubuntu:latest /bin/bash\n",
    "```"
   ]
  },
  {
   "cell_type": "markdown",
   "id": "c137dfb1-ddc6-4738-b2d8-c4b4cf9ffe91",
   "metadata": {},
   "source": [
    "<div align=center><img src=\"https://muyu001.oss-cn-beijing.aliyuncs.com/img/image-20240710152836497.png\" width=100%></div>"
   ]
  },
  {
   "cell_type": "markdown",
   "id": "d6c08c24-9575-4105-bb21-87630fb53e2b",
   "metadata": {},
   "source": [
    "&emsp;&emsp;退出容器：\n",
    "\n",
    "```bash\n",
    "exit\n",
    "```"
   ]
  },
  {
   "cell_type": "markdown",
   "id": "13b7e0d6-7a12-4f36-87d2-d7340465c5f3",
   "metadata": {},
   "source": [
    "&emsp;&emsp;查看所有本地容器实例（包括非运行状态的）：\n",
    "\n",
    "```bash\n",
    "docker ps\n",
    "docker ps -a\n",
    "```"
   ]
  },
  {
   "cell_type": "markdown",
   "id": "815582e6-1453-472d-b16f-26882fbfb3f8",
   "metadata": {},
   "source": [
    "<div align=center><img src=\"https://muyu001.oss-cn-beijing.aliyuncs.com/img/image-20240710152906579.png\" width=100%></div>"
   ]
  },
  {
   "cell_type": "markdown",
   "id": "29f232ca-fd21-4619-95f7-12ed0ebe3804",
   "metadata": {},
   "source": [
    "&emsp;&emsp;再次启动之前停止的容器，这里需要替换 `[容器ID]` 为你的具体容器ID：\n",
    "\n",
    "```bash\n",
    "docker start [容器ID]\n",
    "```"
   ]
  },
  {
   "cell_type": "markdown",
   "id": "6a26eed2-731d-4b43-bf92-e9af655d5f6d",
   "metadata": {},
   "source": [
    "<div align=center><img src=\"https://muyu001.oss-cn-beijing.aliyuncs.com/img/image-20240710153011171.png\" width=100%></div>"
   ]
  },
  {
   "cell_type": "markdown",
   "id": "75e9a7c3-31b4-4c6d-9d10-01141f15ce68",
   "metadata": {},
   "source": [
    "&emsp;&emsp;再次进入已经启动的容器：\n",
    "\n",
    "```bash\n",
    "docker exec -it [容器ID] /bin/bash\n",
    "```"
   ]
  },
  {
   "cell_type": "markdown",
   "id": "726e417f-9adf-4056-8749-48f8d2d941f6",
   "metadata": {},
   "source": [
    "<div align=center><img src=\"https://muyu001.oss-cn-beijing.aliyuncs.com/img/image-20240710153108166.png\" width=100%></div>"
   ]
  },
  {
   "cell_type": "markdown",
   "id": "0d81d972-b166-40f7-b9f3-0321db578277",
   "metadata": {},
   "source": [
    "&emsp;&emsp;退出容器，并停止运行的容器，同样需要替换 `[容器ID]`：\n",
    "\n",
    "```bash\n",
    "docker stop [容器ID]\n",
    "```"
   ]
  },
  {
   "cell_type": "markdown",
   "id": "b6ecae25-9931-482f-9d83-d07238c65a84",
   "metadata": {},
   "source": [
    "<div align=center><img src=\"https://muyu001.oss-cn-beijing.aliyuncs.com/img/image-20240710153443570.png\" width=100%></div>"
   ]
  },
  {
   "cell_type": "markdown",
   "id": "0b33a52c-275e-4836-a8e7-f3659d602e19",
   "metadata": {},
   "source": [
    "# 四、Docker镜像基本操作"
   ]
  },
  {
   "cell_type": "markdown",
   "id": "8f0e8fe1-81d4-42d2-9102-fc46297f513e",
   "metadata": {},
   "source": [
    "&emsp;&emsp;查看所有本地 Docker 镜像：\n",
    "\n",
    "```bash\n",
    "docker images\n",
    "```"
   ]
  },
  {
   "cell_type": "markdown",
   "id": "2ce8e5b8-162f-49ea-8fc8-ff097fe472d8",
   "metadata": {},
   "source": [
    "<div align=center><img src=\"https://muyu001.oss-cn-beijing.aliyuncs.com/img/image-20240710154018369.png\" width=100%></div>"
   ]
  },
  {
   "cell_type": "markdown",
   "id": "82324774-167b-4bb2-a9dd-7ee267ae8a1c",
   "metadata": {},
   "source": [
    "&emsp;&emsp;仅查看镜像的ID：\n",
    "\n",
    "```bash\n",
    "docker images -q\n",
    "```"
   ]
  },
  {
   "cell_type": "markdown",
   "id": "87f8706a-2bf7-4e84-93c4-3a22c29ed823",
   "metadata": {},
   "source": [
    "<div align=center><img src=\"https://muyu001.oss-cn-beijing.aliyuncs.com/img/image-20240710154026438.png\" width=100%></div>"
   ]
  },
  {
   "cell_type": "markdown",
   "id": "377a22cf-90a0-4339-9a63-311daae2fc5c",
   "metadata": {},
   "source": [
    "&emsp;&emsp;显示镜像的完整信息：\n",
    "\n",
    "```bash\n",
    "docker images --no-trunc\n",
    "```"
   ]
  },
  {
   "cell_type": "markdown",
   "id": "6d5a9bbd-5832-4bdb-b977-11ba96bc20db",
   "metadata": {},
   "source": [
    "<div align=center><img src=\"https://muyu001.oss-cn-beijing.aliyuncs.com/img/image-20240710154036671.png\" width=100%></div>"
   ]
  },
  {
   "cell_type": "markdown",
   "id": "03951993-c8d9-4d68-bc93-761e9af20493",
   "metadata": {},
   "source": [
    "&emsp;&emsp;搜索 Docker 镜像库中的镜像，替换 `镜像名` 为你想搜索的镜像名：\n",
    "\n",
    "```bash\n",
    "docker search 镜像名   \n",
    "```"
   ]
  },
  {
   "cell_type": "markdown",
   "id": "7a66b584-4201-40f5-8e09-bf49d887f60c",
   "metadata": {},
   "source": [
    "<div align=center><img src=\"https://muyu001.oss-cn-beijing.aliyuncs.com/img/image-20240710154254709.png\" width=100%></div>"
   ]
  },
  {
   "cell_type": "markdown",
   "id": "e256db2b-d908-4047-9d03-f92383f93010",
   "metadata": {},
   "source": [
    "&emsp;&emsp;下载指定的 Docker 镜像，如果不指定版本（TAG），则默认使用 `latest`：\n",
    "\n",
    "```bash\n",
    "docker pull 镜像名:版本 # 不指定 TAG, 则默认使用 latest\n",
    "```"
   ]
  },
  {
   "cell_type": "markdown",
   "id": "3c246c28-fee4-4e4a-b10b-b6ecd9b9444e",
   "metadata": {},
   "source": [
    "<div align=center><img src=\"https://muyu001.oss-cn-beijing.aliyuncs.com/img/image-20240710154308763.png\" width=100%></div>"
   ]
  },
  {
   "cell_type": "markdown",
   "id": "c2ca3f33-a6c8-4d5b-a128-926dc0b71381",
   "metadata": {},
   "source": [
    "&emsp;&emsp;交互式运行容器：\n",
    "\n",
    "```bash\n",
    "docker run -it 镜像名:版本 程序\n",
    "```"
   ]
  },
  {
   "cell_type": "markdown",
   "id": "ba5c1ef9-5537-4916-bbcc-073f2d8b8673",
   "metadata": {},
   "source": [
    "<div align=center><img src=\"https://muyu001.oss-cn-beijing.aliyuncs.com/img/image-20240710154354771.png\" width=100%></div>"
   ]
  },
  {
   "cell_type": "markdown",
   "id": "81e7ce31-eff5-4c44-ab80-1541eeb63b1f",
   "metadata": {},
   "source": [
    "&emsp;&emsp;交互式运行容器：\n",
    "\n",
    "```bash\n",
    "docker run -it 镜像名:版本 程序\n",
    "```"
   ]
  },
  {
   "cell_type": "markdown",
   "id": "fe322032-784a-4593-beba-8aa75a2e22c9",
   "metadata": {},
   "source": [
    "<div align=center><img src=\"https://muyu001.oss-cn-beijing.aliyuncs.com/img/image-20240710154541475.png\" width=100%></div>"
   ]
  },
  {
   "cell_type": "markdown",
   "id": "faaa82b2-2135-46dc-912b-08aca77ab3a7",
   "metadata": {},
   "source": [
    "&emsp;&emsp;运行容器时指定容器的名字：\n",
    "\n",
    "```bash\n",
    "docker run -it --name=标签名 镜像名:版本 程序\n",
    "```"
   ]
  },
  {
   "cell_type": "markdown",
   "id": "1cc9e669-c326-4174-954c-f94fcc497da0",
   "metadata": {},
   "source": [
    "<div align=center><img src=\"https://muyu001.oss-cn-beijing.aliyuncs.com/img/image-20240710154609065.png\" width=100%></div>"
   ]
  },
  {
   "cell_type": "markdown",
   "id": "3c5d6924-3a95-4973-98bd-8364b18c4f16",
   "metadata": {},
   "source": [
    "&emsp;&emsp;在后台运行容器：\n",
    "\n",
    "```bash\n",
    "docker run -itd 镜像名:版本 程序\n",
    "```"
   ]
  },
  {
   "cell_type": "markdown",
   "id": "9162b865-0ca0-4993-b680-cfe5dec0fcd0",
   "metadata": {},
   "source": [
    "&emsp;&emsp;删除指定的 Docker 镜像：\n",
    "\n",
    "```bash\n",
    "docker rmi -f 镜像名\n",
    "```"
   ]
  },
  {
   "cell_type": "markdown",
   "id": "5c9f1446-f973-48be-83aa-ef02507452e5",
   "metadata": {},
   "source": [
    "<div align=center><img src=\"https://muyu001.oss-cn-beijing.aliyuncs.com/img/image-20240710154642056.png\" width=100%></div>"
   ]
  },
  {
   "cell_type": "markdown",
   "id": "054fed19-c1a1-41ed-8bd5-d30eccecd732",
   "metadata": {},
   "source": [
    "&emsp;&emsp;使用镜像ID删除镜像，慎用：\n",
    "\n",
    "```bash\n",
    "docker rmi -f 镜像ID\n",
    "```"
   ]
  },
  {
   "cell_type": "markdown",
   "id": "add81a59-ee03-44a5-826d-37201a08d8f3",
   "metadata": {},
   "source": [
    "&emsp;&emsp;删除所有 Docker 镜像，慎用：\n",
    "\n",
    "```bash\n",
    "docker rmi -f $(docker images -qa)\n",
    "```"
   ]
  },
  {
   "cell_type": "markdown",
   "id": "7c42a0fb-eec6-44c2-91ab-a14fea4f7642",
   "metadata": {},
   "source": [
    "&emsp;&emsp;保存 Docker 镜像到文件：\n",
    "\n",
    "```bash\n",
    "docker save 镜像名:版本 -o xxx.tar\n",
    "```"
   ]
  },
  {
   "cell_type": "markdown",
   "id": "f6556e57-f974-467d-a861-9a6181d39a69",
   "metadata": {},
   "source": [
    "&emsp;&emsp;从文件加载 Docker 镜像：\n",
    "\n",
    "```bash\n",
    "docker load -i xxx.tar\n",
    "```"
   ]
  },
  {
   "cell_type": "markdown",
   "id": "325b4270-163d-476d-b4d4-8ad1f81b1be6",
   "metadata": {},
   "source": [
    "# 五、Docker容器基本操作"
   ]
  },
  {
   "cell_type": "markdown",
   "id": "69b293e5-bda3-4227-a8d7-4547f39a826e",
   "metadata": {},
   "source": [
    "&emsp;&emsp;查看当前正在运行的 Docker 容器实例：\n",
    "\n",
    "```bash\n",
    "docker ps\n",
    "```"
   ]
  },
  {
   "cell_type": "markdown",
   "id": "93186e9d-2e97-42aa-9545-d1646c9838eb",
   "metadata": {},
   "source": [
    "<div align=center><img src=\"https://muyu001.oss-cn-beijing.aliyuncs.com/img/image-20240710155503891.png\" width=100%></div>"
   ]
  },
  {
   "cell_type": "markdown",
   "id": "af8d3b5f-1243-4d7c-896d-47b15aa5fe46",
   "metadata": {},
   "source": [
    "&emsp;&emsp;查看所有 Docker 容器实例，包括正在运行和已停止的：\n",
    "\n",
    "```bash\n",
    "docker ps -a\n",
    "```"
   ]
  },
  {
   "cell_type": "markdown",
   "id": "3a4c6cc5-1cb6-4b32-9093-7c638f5ed458",
   "metadata": {},
   "source": [
    "<div align=center><img src=\"https://muyu001.oss-cn-beijing.aliyuncs.com/img/image-20240710155526298.png\" width=100%></div>"
   ]
  },
  {
   "cell_type": "markdown",
   "id": "1ffee8a6-399f-4dff-b352-1ef75e11dc84",
   "metadata": {},
   "source": [
    "&emsp;&emsp;启动指定的 Docker 容器，需要替换 `容器ID`：\n",
    "\n",
    "```bash\n",
    "docker start 容器ID\n",
    "```"
   ]
  },
  {
   "cell_type": "markdown",
   "id": "528d4e20-bc48-4e8f-8fe6-0a1bdf41a542",
   "metadata": {},
   "source": [
    "<div align=center><img src=\"https://muyu001.oss-cn-beijing.aliyuncs.com/img/image-20240710155607836.png\" width=100%></div>"
   ]
  },
  {
   "cell_type": "markdown",
   "id": "4ae52a32-ae87-4f62-b447-6ab644eccc14",
   "metadata": {},
   "source": [
    "&emsp;&emsp;重启指定的 Docker 容器，需要替换 `容器ID`：\n",
    "\n",
    "```bash\n",
    "docker restart 容器ID\n",
    "```"
   ]
  },
  {
   "cell_type": "markdown",
   "id": "36c9da1c-37f6-49a2-a63e-a37bfdc1091c",
   "metadata": {},
   "source": [
    "<div align=center><img src=\"https://muyu001.oss-cn-beijing.aliyuncs.com/img/image-20240710155631643.png\" width=100%></div>"
   ]
  },
  {
   "cell_type": "markdown",
   "id": "d141b54b-50d4-446a-b201-d9774a3f8892",
   "metadata": {},
   "source": [
    "&emsp;&emsp;停止正在运行的 Docker 容器，需要替换 `容器ID`：\n",
    "\n",
    "```bash\n",
    "docker stop 容器ID\n",
    "```"
   ]
  },
  {
   "cell_type": "markdown",
   "id": "6c33500e-44ab-4720-8115-26dadec8835e",
   "metadata": {},
   "source": [
    "<div align=center><img src=\"https://muyu001.oss-cn-beijing.aliyuncs.com/img/image-20240710155717579.png\" width=100%></div>"
   ]
  },
  {
   "cell_type": "markdown",
   "id": "4f9313ed-4fa3-4ee8-a68b-38a7b9c51c6b",
   "metadata": {},
   "source": [
    "&emsp;&emsp;强制删除指定的 Docker 容器：\n",
    "\n",
    "```bash\n",
    "docker rm -f 容器ID\n",
    "```"
   ]
  },
  {
   "cell_type": "markdown",
   "id": "e3f17510-db5e-4b9d-b28e-757a6a299735",
   "metadata": {},
   "source": [
    "<div align=center><img src=\"https://muyu001.oss-cn-beijing.aliyuncs.com/img/image-20240710155741686.png\" width=100%></div>"
   ]
  },
  {
   "cell_type": "markdown",
   "id": "2d05f306-700d-4406-acd5-e82f9412b7ed",
   "metadata": {},
   "source": [
    "&emsp;&emsp;删除所有 Docker 容器，慎用：\n",
    "\n",
    "```bash\n",
    "docker rm -f $(docker ps -qa)\n",
    "```"
   ]
  },
  {
   "cell_type": "markdown",
   "id": "e2d49f3d-c860-4396-96f5-c3fde632d126",
   "metadata": {},
   "source": [
    "&emsp;&emsp;进入正在运行的 Docker 容器的会话，注意使用 `attach` 时退出会导致容器停止：\n",
    "\n",
    "```bash\n",
    "docker attach 容器ID\n",
    "```"
   ]
  },
  {
   "cell_type": "markdown",
   "id": "081a826f-bb5c-4b60-ad60-719af462dd6a",
   "metadata": {},
   "source": [
    "# 六、如何构建Docker镜像"
   ]
  },
  {
   "cell_type": "markdown",
   "id": "3a1cac9d-0297-48ef-b7fc-6ba43164161a",
   "metadata": {},
   "source": [
    "&emsp;&emsp;构建Docker镜像通常需要编写一个Dockerfile，这是一种由指令组成的文本文件，指定如何构建镜像。Dockerfile定义了从基础镜像开始，到安装软件，复制文件，以及设置配置等一系列步骤。Dockerfile 中的关键指令：\n",
    "- FROM：设置后续指令的基础镜像。\n",
    "- WORKDIR：设置容器内的工作目录。\n",
    "- COPY：将文件从主机系统复制到容器。\n",
    "- RUN：在容器中执行命令。\n",
    "- CMD：指定容器启动时运行的命令。\n",
    "- EXPOSE：记录容器侦听的端口。"
   ]
  },
  {
   "cell_type": "markdown",
   "id": "70388e47-30dd-4aab-a82f-202273290350",
   "metadata": {},
   "source": [
    "&emsp;&emsp;除此之外，通常还需要一个.dockerignore 文件，其工作方式与 .gitignore 文件类似。它指定构建 Docker 映像时应忽略哪些文件和目录。这有助于保持镜像轻量并避免不必要的文件。减少构建上下文的大小并缩短构建时间。"
   ]
  },
  {
   "cell_type": "markdown",
   "id": "f2e046aa-d183-4fa8-b31a-aa9f0782e933",
   "metadata": {},
   "source": [
    "&emsp;&emsp;这里我们将以容器化 fufan_chat_api 为例：在项目的根目录中创建一个 Dockerfile， 写入如下内容：\n",
    "\n",
    "```bash\n",
    "# 使用基础镜像\n",
    "FROM nvidia/cuda:12.1.1-cudnn8-runtime-ubuntu22.04\n",
    "\n",
    "# 设定维护者标签\n",
    "LABEL maintainer=MuyuChery\n",
    "\n",
    "# 设置工作目录和环境变量，其中/opt/conda/bin 是 Miniconda安装后，其可执行文件所在的目录。\n",
    "ENV HOME=/fufan-chat-api \\\n",
    "    PATH=/opt/conda/bin:$PATH\n",
    "\n",
    "# 设置工作目录\n",
    "WORKDIR /fufan-chat-api\n",
    "\n",
    "# 安装Miniconda\n",
    "RUN apt-get update -y && \\\n",
    "    apt-get install -y --no-install-recommends curl libgl1 libglib2.0-0 jq && \\\n",
    "    curl -sLo /miniconda.sh https://repo.anaconda.com/miniconda/Miniconda3-latest-Linux-x86_64.sh && \\\n",
    "    bash /miniconda.sh -b -p /opt/conda && \\\n",
    "    rm /miniconda.sh && \\\n",
    "    apt-get clean && \\\n",
    "    rm -rf /var/lib/apt/lists/*\n",
    "\n",
    "# 配置时区\n",
    "RUN ln -sf /usr/share/zoneinfo/Asia/Shanghai /etc/localtime && \\\n",
    "    echo \"Asia/Shanghai\" > /etc/timezone\n",
    "\n",
    "# 使用conda创建虚拟环境并安装依赖\n",
    "COPY requirements.txt .\n",
    "RUN conda create -n fufan_chat_api python=3.10 && \\\n",
    "    echo \"source activate fufan_chat_api\" > ~/.bashrc && \\\n",
    "    /opt/conda/envs/fufan_chat_api/bin/pip install -r requirements.txt -i https://pypi.tuna.tsinghua.edu.cn/simple\n",
    "\n",
    "# 复制其他所有文件\n",
    "COPY . .\n",
    "\n",
    "# 暴露端口，记录容器侦听的端口\n",
    "EXPOSE 8000\n",
    "\n",
    "# 容器启动时执行的命令\n",
    "ENTRYPOINT [\"/opt/conda/envs/fufan_chat_api/bin/python\", \"startup.py\"]\n",
    "\n",
    "```"
   ]
  },
  {
   "cell_type": "markdown",
   "id": "62e5476f-3894-41fb-bc99-eb30049c5e35",
   "metadata": {},
   "source": [
    "&emsp;&emsp;同时，如果在项目中有比较大的本地文件，比如大模型权重、大批量的数据集等，我们可以在根目录中创建一个 .dockerignore 文件，在这里写入这些大文件的名称，在构建镜像的时候将会忽略。"
   ]
  },
  {
   "cell_type": "markdown",
   "id": "5717142d-e42a-45f8-829c-f899cb5dc62f",
   "metadata": {},
   "source": [
    "&emsp;&emsp;对于不依赖其他内部组件如 MySQL 这类外部服务的项目，只要确保 Dockerfile 中包含了所有必要的设置和配置。就可以直接构建 Docker 镜像，代码如下：\n",
    "\n",
    "```bash\n",
    "    docker build -t fufan_chat_api:v1.0 .\n",
    "```"
   ]
  },
  {
   "cell_type": "markdown",
   "id": "17903a9c-65af-4a2e-9acb-66f95bff7ed4",
   "metadata": {},
   "source": [
    "> **注意：这种构建镜像的方法不适用fufan-chat-api项目，因为该项目依赖Mysql、Faiss和Milvus外部服务，所以上述构建方法仅做学习，我们实际项目的构建方法请看Docker Compose构建方法。**"
   ]
  },
  {
   "cell_type": "markdown",
   "id": "9687eb1a-081f-4893-8d39-58561ee5a9c4",
   "metadata": {},
   "source": [
    "&emsp;&emsp;其中：docker build是Docker的一个命令，用于从Dockerfile构建镜像。\n",
    "\n",
    "- -t：Tag的简写，用于为构建的镜像指定一个名称和标签（版本）。如果不指定标签，Docker默认使用latest作为标签。\n",
    "- fufan_chat_api：镜像的名称，反映镜像的用途或包含的应用。\n",
    "- v1.0：镜像的版本号，帮助用户识别和管理不同版本的镜像。\n",
    "- .：这是一个重要参数，指Dockerfile所在的位置。这里的点.表示当前目录，意味着Docker将在当前目录下查找名为Dockerfile的文件来构建镜像。"
   ]
  },
  {
   "cell_type": "markdown",
   "id": "0aaba88c-1e71-4ff0-bba8-2d0e398ee112",
   "metadata": {},
   "source": [
    "&emsp;&emsp;上面的命令如果成功运行，会给出类似于下面的输出："
   ]
  },
  {
   "cell_type": "markdown",
   "id": "e9913a63-a304-4abd-9807-4105b8653b2f",
   "metadata": {},
   "source": [
    "<div align=center><img src=\"https://muyu001.oss-cn-beijing.aliyuncs.com/img/image-20240710181744398.png\" width=100%></div>"
   ]
  },
  {
   "cell_type": "markdown",
   "id": "095e4d23-6070-447c-bb94-51d6bc3a8ec6",
   "metadata": {},
   "source": [
    "&emsp;&emsp;等待镜像构建完成："
   ]
  },
  {
   "cell_type": "markdown",
   "id": "a31caaed-c896-4fbe-8d3a-085a6e1195c9",
   "metadata": {},
   "source": [
    "<div align=center><img src=\"https://muyu001.oss-cn-beijing.aliyuncs.com/img/%E5%BE%AE%E4%BF%A1%E5%9B%BE%E7%89%87_20240711095637.png\" width=100%></div>"
   ]
  },
  {
   "cell_type": "markdown",
   "id": "34b4b637-4fab-4ba7-883e-2faee2281733",
   "metadata": {},
   "source": [
    "&emsp;&emsp;构建镜像完成后，可以使用以下命令从中运行容器：\n",
    "\n",
    "```bash\n",
    "    docker run -p 8000:3000 fufan_chat_api:v1.0\n",
    "```"
   ]
  },
  {
   "cell_type": "markdown",
   "id": "b49ee6ba-9147-4641-b829-7405cabc83b2",
   "metadata": {},
   "source": [
    "&emsp;&emsp;这里需要说明一下Docker的端口映射概念。"
   ]
  },
  {
   "cell_type": "markdown",
   "id": "f470d70c-9b7c-4110-97ac-b7ffe3b55ec6",
   "metadata": {},
   "source": [
    "&emsp;&emsp;Docker中的端口映射是将主机上的端口映射到容器中的端口的过程。这对于从 Docker 主机外部访问容器内运行的应用程序至关重要。想象一下，你有一个 Web 服务器在端口 3000 上的 Docker 容器内运行。默认情况下，该端口只能在 Docker 网络内访问，而不能从主机或外部网络访问。要使该服务器在容器外部可访问，需要将端口从主机转发到容器。"
   ]
  },
  {
   "cell_type": "markdown",
   "id": "e8266995-2295-49c4-8050-06fbdb4432f5",
   "metadata": {},
   "source": [
    "<div align=center><img src=\"https://muyu001.oss-cn-beijing.aliyuncs.com/img/image-20240710160735171.png\" width=60%></div>"
   ]
  },
  {
   "cell_type": "markdown",
   "id": "b48053bb-d652-4f23-8346-519a0a3d5923",
   "metadata": {},
   "source": [
    "&emsp;&emsp;需要说明的是：上述对单个fufan-chat-api项目的镜像构建不适用我们的项目情况，因为我们的项目需要连接到MySQL和Milvus向量数据库，对于这种相对复杂的情况，我们一般是使用Docker Compose来管理多个容器，比如一个容器运行你的应用，另外两个容器分别运行MySQL和Milvus数据库。这样可以保持容器的独立性，同时简化了网络配置和服务管理。"
   ]
  },
  {
   "cell_type": "markdown",
   "id": "131b2a86-4ae1-441f-9459-fb6397df8c86",
   "metadata": {},
   "source": [
    "# 七、Docker Compose 自动打包"
   ]
  },
  {
   "cell_type": "markdown",
   "id": "07fb8702-0fc1-4fa7-9aa8-cf49d78a60d8",
   "metadata": {},
   "source": [
    "&emsp;&emsp;Docker Compose 是一个允许定义和运行多容器 Docker 应用程序的工具。它使用 YAML 文件 ( docker-compose.yml ) 来配置和编排构成应用程序的服务，包括它们的依赖项、网络、卷和其他配置设置。针对我们当前的情况，可以在根目录下定义docker-compose.yml文件，设置这三个服务。文件内容如下："
   ]
  },
  {
   "cell_type": "markdown",
   "id": "320081a8-2f1b-4822-8cd9-45f021ad591f",
   "metadata": {},
   "source": [
    "```yml\n",
    "version: '3.9'  # 指定 Docker Compose 文件格式的版本。\n",
    "\n",
    "services:  #  定义要使用的容器镜像的部署单元。\n",
    "\n",
    "  mysql:\n",
    "    image: mysql:5.7\n",
    "    environment:\n",
    "      MYSQL_ROOT_PASSWORD: snowball950123\n",
    "      MYSQL_DATABASE: fufanapi\n",
    "    ports:\n",
    "      - \"3306:3306\"\n",
    "\n",
    "  fufan_chat_api:   # 开发的实际项目\n",
    "    build: .\n",
    "    image: fufan_chat_api:v1.0\n",
    "    ports:\n",
    "      - \"8000:8000\"\n",
    "    # 每一行/path/to/local:/path/to/container的格式是 Docker 的卷映射格式，左边是你的主机上的路径，右边是容器内部的路径。\n",
    "    # 这样设置后，容器内的程序就能通过相同的文件路径访问到存储在主机上的模型权重。\n",
    "    volumes:\n",
    "      - /home/00_rag/model/ZhipuAI/chatglm3-6b:/home/00_rag/model/ZhipuAI/chatglm3-6b\n",
    "      - /home/00_rag/model/AI-ModelScope/bge-large-zh-v1___5:/home/00_rag/model/AI-ModelScope/bge-large-zh-v1___5\n",
    "      - /home/00_rag/model/Xorbits/bge-reranker-large:/home/00_rag/model/Xorbits/bge-reranker-large\n",
    "    depends_on:   # 确保 fufan_chat_api 服务在 mysql 服务之后启动。\n",
    "      - mysql\n",
    "\n",
    "    deploy:\n",
    "      resources:\n",
    "        reservations:\n",
    "          devices:\n",
    "            - driver: nvidia\n",
    "              count: 1\n",
    "              capabilities: [gpu]\n",
    "\n",
    "    environment:\n",
    "      - NVIDIA_VISIBLE_DEVICES=all\n",
    "      - MYSQL_HOST=mysql    # 使用服务名作为 host，Docker 内部 DNS 解析\n",
    "      - MYSQL_PORT=3306\n",
    "```"
   ]
  },
  {
   "cell_type": "markdown",
   "id": "2c4d0ed9-9d37-49b7-b872-09a9dd67c388",
   "metadata": {},
   "source": [
    "&emsp;&emsp;通常在Docker Compose文件中，默认情况下，所有服务都在同一个网络中，服务名称（如mysql和milvus）可以作为它们的主机名来进行网络通信。这种方法是部署多服务应用的最佳实践，既保证了环境的一致性，又提高了整体的可维护性和扩展性。"
   ]
  },
  {
   "cell_type": "markdown",
   "id": "51758591-3afb-4a20-8776-393190f1342e",
   "metadata": {},
   "source": [
    "&emsp;&emsp;准备好`docker-compose.yml`文件后，需要先在当前的操作系统上安装docker-compose工具，安装过程如下：\n",
    "\n",
    "&emsp;&emsp;先尝试卸载当前版本：\n",
    "\n",
    "```bash\n",
    "sudo rm /usr/local/bin/docker-compose\n",
    "```\n",
    "\n",
    "&emsp;&emsp;根据 Docker 官方文档，可以使用这个命令安装 Docker Compose：\n",
    "\n",
    "```bash\n",
    "sudo curl -L \"https://github.com/docker/compose/releases/download/2.28.1/docker-compose-$(uname -s)-$(uname -m)\" -o /usr/local/bin/docker-compose\n",
    "```\n",
    "\n",
    "&emsp;&emsp;然后给执行权限：\n",
    "\n",
    "```bash\n",
    "sudo chmod +x /usr/local/bin/docker-compose\n",
    "```"
   ]
  },
  {
   "cell_type": "markdown",
   "id": "f05be391-61b5-491b-b5cb-462066ec0b5d",
   "metadata": {},
   "source": [
    "> 确保替换 URL 中的版本号为最新版本。可以在 Docker Compose :https://github.com/docker/compose/releases 找到最新版本。"
   ]
  },
  {
   "cell_type": "markdown",
   "id": "293e665a-d89a-410a-bda2-81a1874d71fc",
   "metadata": {},
   "source": [
    "&emsp;&emsp;执行镜像构建，输入命令如下：\n",
    "\n",
    "```bash\n",
    "    docker-compose up build\n",
    "```"
   ]
  },
  {
   "cell_type": "markdown",
   "id": "09d7a9b5-58a5-44e7-88f1-fdfb780231e2",
   "metadata": {},
   "source": [
    "<div align=center><img src=\"https://muyu001.oss-cn-beijing.aliyuncs.com/img/image-20240716133122967.png\" width=100%></div>"
   ]
  },
  {
   "cell_type": "markdown",
   "id": "ad487875-1751-4486-b042-fb452c8d36f3",
   "metadata": {},
   "source": [
    "&emsp;&emsp;构建好镜像后，需要关注的一点是：我们在容器内会加载本地部署的开源模型，对于 Docker 容器来说，使用 GPU 需要 NVIDIA Docker Toolkit（nvidia-docker）。这个工具允许 Docker 容器访问宿主机的 GPU。所以我们第一步需要安装 NVIDIA Docker Toolkit，这里可以参考官方文档：https://docs.nvidia.com/datacenter/cloud-native/container-toolkit/latest/install-guide.html， 需要执行的操作步骤如下："
   ]
  },
  {
   "cell_type": "markdown",
   "id": "dd4dcf58-0387-4d23-ba24-8931971ab9c8",
   "metadata": {},
   "source": [
    "<div align=center><img src=\"https://muyu001.oss-cn-beijing.aliyuncs.com/img/image-20240716133730801.png\" width=100%></div>"
   ]
  },
  {
   "cell_type": "markdown",
   "id": "1b66b49a-f6fe-47e2-b9c6-0e2fa89c3f35",
   "metadata": {},
   "source": [
    "&emsp;&emsp;接下来修改 docker-compose.yml。我们需要确保 docker-compose.yml 文件为需要使用 GPU 的服务指定了正确的运行时。这通常通过设置 runtime 为 nvidia 来实现：\n",
    "\n",
    "```yml\n",
    "    deploy:\n",
    "      resources:\n",
    "        reservations:\n",
    "          devices:\n",
    "            - driver: nvidia\n",
    "              count: 1\n",
    "              capabilities: [gpu]\n",
    "\n",
    "    environment:\n",
    "      - NVIDIA_VISIBLE_DEVICES=all\n",
    "```"
   ]
  },
  {
   "cell_type": "markdown",
   "id": "cfcf5278-2ea0-49b1-a555-65d30341683e",
   "metadata": {},
   "source": [
    "&emsp;&emsp;配置完成后，使用如下命令启动项目服务：\n",
    "\n",
    "```bash\n",
    "    docker-compose up\n",
    "```"
   ]
  },
  {
   "cell_type": "markdown",
   "id": "cff654d1-2185-4b59-8c79-9ee91a4eb6a6",
   "metadata": {},
   "source": [
    "> 注意：如需使用milvus服务，请依据《附录2：Docker安装运行Milvus》单独启动Milvus向量数据库服务"
   ]
  },
  {
   "cell_type": "markdown",
   "id": "82bf3cd9-c1fe-4b1f-8668-bdcc407671ee",
   "metadata": {},
   "source": [
    "<div align=center><img src=\"https://muyu001.oss-cn-beijing.aliyuncs.com/img/image-20240716134041847.png\" width=100%></div>"
   ]
  },
  {
   "cell_type": "markdown",
   "id": "c6bc2d5d-84e9-4257-94f5-a7d0a0b84833",
   "metadata": {},
   "source": [
    "&emsp;&emsp;接下来就可以同直接 `python startup.py` 启动服务的形式一样访问服务了。"
   ]
  },
  {
   "cell_type": "markdown",
   "id": "2dda7b2b-cad0-49c9-9f1e-a1c084ca47a7",
   "metadata": {},
   "source": [
    "<div align=center><img src=\"https://muyu001.oss-cn-beijing.aliyuncs.com/img/image-20240716134118670.png\" width=100%></div>"
   ]
  },
  {
   "cell_type": "markdown",
   "id": "b21c48e8-2535-49d2-bde8-d32789cdead9",
   "metadata": {},
   "source": [
    "&emsp;&emsp;我们这里可以快速进行访问测试："
   ]
  },
  {
   "cell_type": "markdown",
   "id": "b62ff4b0-5626-4d68-b69c-18974c7e0ce3",
   "metadata": {},
   "source": [
    "<div align=center><img src=\"https://muyu001.oss-cn-beijing.aliyuncs.com/img/image-20240716134218869.png\" width=100%></div>"
   ]
  },
  {
   "cell_type": "markdown",
   "id": "7aed1dac-2d9e-47cf-9d32-2dec1ba0ec10",
   "metadata": {},
   "source": [
    "# 八、Docker镜像推送"
   ]
  },
  {
   "cell_type": "markdown",
   "id": "28a58e27-fd40-4160-ab6e-26c2701d621c",
   "metadata": {},
   "source": [
    "&emsp;&emsp;推送 Docker 镜像到 Docker Hub 需要以下几步："
   ]
  },
  {
   "cell_type": "markdown",
   "id": "234b726e-ef47-4479-a1eb-5df8f0d59043",
   "metadata": {},
   "source": [
    "- **Step 1. 创建 Docker Hub 账户, 地址：https://hub.docker.com/**"
   ]
  },
  {
   "cell_type": "markdown",
   "id": "5355cc42-5bcf-4838-b68a-110f4455e7e3",
   "metadata": {},
   "source": [
    "<div align=center><img src=\"https://muyu001.oss-cn-beijing.aliyuncs.com/img/%E5%BE%AE%E4%BF%A1%E5%9B%BE%E7%89%87_20240711095616.png\" width=100%></div>"
   ]
  },
  {
   "cell_type": "markdown",
   "id": "abb34dd6-cb37-42c7-95b6-91c3c1dbdb62",
   "metadata": {},
   "source": [
    "- **Step 2. 在 Docker Hub 上创建新的仓库**"
   ]
  },
  {
   "cell_type": "markdown",
   "id": "87af29f0-30e7-4afb-b8c0-e00621a40b6b",
   "metadata": {},
   "source": [
    "<div align=center><img src=\"https://muyu001.oss-cn-beijing.aliyuncs.com/img/%E5%BE%AE%E4%BF%A1%E5%9B%BE%E7%89%87_20240711095626.png\" width=100%></div>"
   ]
  },
  {
   "cell_type": "markdown",
   "id": "695b541f-09d5-4452-b22c-8d9602ea9c6c",
   "metadata": {},
   "source": [
    "<div align=center><img src=\"https://muyu001.oss-cn-beijing.aliyuncs.com/img/%E5%BE%AE%E4%BF%A1%E5%9B%BE%E7%89%87_20240711095633.png\" width=100%></div>"
   ]
  },
  {
   "cell_type": "markdown",
   "id": "479b0395-bfd9-40fd-9706-479c26cb8cdf",
   "metadata": {},
   "source": [
    "- **Step 3. 本地登录 Docker**"
   ]
  },
  {
   "cell_type": "markdown",
   "id": "54a7c1d9-273c-4ee9-9bb9-74aa5c44a895",
   "metadata": {},
   "source": [
    "&emsp;&emsp;命令行中输入 `docker login`，然后按照提示输入的 Docker"
   ]
  },
  {
   "cell_type": "markdown",
   "id": "2b9d5c4b-3d60-4e7c-a55a-ec5fc6444f9e",
   "metadata": {},
   "source": [
    "<div align=center><img src=\"https://muyu001.oss-cn-beijing.aliyuncs.com/img/image-20240711172729120.png\" width=100%></div>"
   ]
  },
  {
   "cell_type": "markdown",
   "id": "dbe8582a-b7f0-4efe-a4fa-f71eea68c7d4",
   "metadata": {},
   "source": [
    "- **Step 4. 标记镜像**"
   ]
  },
  {
   "cell_type": "markdown",
   "id": "3cb34a1d-0084-412a-b888-503b99d64706",
   "metadata": {},
   "source": [
    "&emsp;&emsp;在推送镜像之前，需要给镜像打标记（Tag），其中标签要与 Docker Hub 仓库的地址相匹配，命令如下：\n",
    "\n",
    "```bash\n",
    "    docker tag ubuntu:latest [用户名]/ubuntu:v2.1  #docker tag fufan_chat_api:v1.0 snowball1996/fufan_chat_api:v1.0\n",
    "```"
   ]
  },
  {
   "cell_type": "markdown",
   "id": "6f4afba2-2b6c-4b6a-9aaf-1c9cc8747e89",
   "metadata": {},
   "source": [
    "<div align=center><img src=\"https://muyu001.oss-cn-beijing.aliyuncs.com/img/image-20240711173646941.png\" width=100%></div>"
   ]
  },
  {
   "cell_type": "markdown",
   "id": "3d5200b7-49b7-462f-b2af-22b94eb4fe0c",
   "metadata": {},
   "source": [
    "&emsp;&emsp;一旦镜像被正确标记，便可以使用 docker push 命令将其推送到 Docker Hub："
   ]
  },
  {
   "cell_type": "markdown",
   "id": "c0ddb95a-1d37-4748-a4ba-d63b07ecc78a",
   "metadata": {},
   "source": [
    "# 附录1：Docker安装运行Mysql"
   ]
  },
  {
   "cell_type": "markdown",
   "id": "6466afa6-b02f-447b-ba4a-0f19fd99d441",
   "metadata": {},
   "source": [
    "&emsp;&emsp;通过运行以下命令在本地启动 mongo 容器。先查找Mysql的镜像：\n",
    "\n",
    "```bash\n",
    "    docker search mysql\n",
    "```"
   ]
  },
  {
   "cell_type": "markdown",
   "id": "6ab1a7bc-b8aa-4b2e-8bfe-37a5ba0f3132",
   "metadata": {},
   "source": [
    "<div align=center><img src=\"https://muyu001.oss-cn-beijing.aliyuncs.com/img/image-20240710184621590.png\" width=100%></div>"
   ]
  },
  {
   "cell_type": "markdown",
   "id": "ea2c6d22-29ec-4843-b6dd-6e2bab1bb6ad",
   "metadata": {},
   "source": [
    "&emsp;&emsp;如果未拉取过镜像，第一次执行会自动执行镜像拉取，同时设置用户名密码等关键信息：\n",
    "\n",
    "```bash\n",
    "    docker run --name mysql \\\n",
    "    -e MYSQL_ROOT_PASSWORD=snowball950123 \\\n",
    "    -e MYSQL_DATABASE=fufanapi \\\n",
    "    --hostname=192.168.110.131 \\\n",
    "    -p 3306:3306 \\\n",
    "    -d mysql:5.7\n",
    "```"
   ]
  },
  {
   "cell_type": "markdown",
   "id": "fcf12e9b-4a8e-4e39-bb0d-834db4a88bf1",
   "metadata": {},
   "source": [
    "<div align=center><img src=\"https://muyu001.oss-cn-beijing.aliyuncs.com/img/image-20240710190037493.png\" width=100%></div>"
   ]
  },
  {
   "cell_type": "markdown",
   "id": "616f92b6-ff60-4123-a739-3febc37a8a85",
   "metadata": {},
   "source": [
    "&emsp;&emsp;查看是否启动成功：\n",
    "```bash\n",
    "    docker ps -a\n",
    "```\n",
    "\n"
   ]
  },
  {
   "cell_type": "markdown",
   "id": "80488a35-02b5-4ad1-a91f-6217be184654",
   "metadata": {},
   "source": [
    "<div align=center><img src=\"https://muyu001.oss-cn-beijing.aliyuncs.com/img/image-20240710190107883.png\" width=100%></div>"
   ]
  },
  {
   "cell_type": "markdown",
   "id": "f269b009-a6a6-4251-a459-f41bde125468",
   "metadata": {},
   "source": [
    "&emsp;&emsp;使用Navicat Premium 17 软件远程连接测试，如下："
   ]
  },
  {
   "cell_type": "markdown",
   "id": "2e240036-aecd-4c89-841d-458276ac361e",
   "metadata": {},
   "source": [
    "<div align=center><img src=\"https://muyu001.oss-cn-beijing.aliyuncs.com/img/image-20240710190151431.png\" width=100%></div>"
   ]
  },
  {
   "cell_type": "markdown",
   "id": "6c0cbf2e-690c-489b-b025-1574f008ec29",
   "metadata": {},
   "source": [
    "# 附录2：Docker 安装运行Milvus"
   ]
  },
  {
   "cell_type": "markdown",
   "id": "f8566f5c-845a-43d0-b60d-5944af5d92a1",
   "metadata": {},
   "source": [
    "&emsp;&emsp;进入Milvus官方文档：https://milvus.io/docs"
   ]
  },
  {
   "cell_type": "markdown",
   "id": "505dbed3-d764-4daf-8044-17fb69c75f12",
   "metadata": {},
   "source": [
    "<div align=center><img src=\"https://muyu001.oss-cn-beijing.aliyuncs.com/img/image-20240704130822643.png\" width=70%></div>"
   ]
  },
  {
   "cell_type": "markdown",
   "id": "705c4a98-d48e-4b95-b0e4-f40f62395716",
   "metadata": {},
   "source": [
    "&emsp;&emsp;下载YAML文件，并启动Milvus服务，如下所示：\n",
    "\n",
    "```bash\n",
    "    wget https://github.com/milvus-io/milvus/releases/download/v2.2.16/milvus-standalone-docker-compose.yml -O docker-compose.yml\n",
    "    sudo docker-compose up -d\n",
    "\n",
    "\n",
    "```"
   ]
  },
  {
   "cell_type": "markdown",
   "id": "6f58eb30-7b98-4b22-ba85-eb4e7a71ebc5",
   "metadata": {},
   "source": [
    "<div align=center><img src=\"https://muyu001.oss-cn-beijing.aliyuncs.com/img/image-20240703140558978.png\" width=100%></div>"
   ]
  },
  {
   "cell_type": "markdown",
   "id": "9ca80888-5eed-4d74-9492-eb3678c4a819",
   "metadata": {},
   "source": [
    "&emsp;&emsp;在 Docker 和 Docker Compose 环境中，可以使用如下命令查看当前正在运行的服务或容器。\n",
    "\n",
    "```bash\n",
    "sudo docker ps\n",
    "```"
   ]
  },
  {
   "cell_type": "markdown",
   "id": "c21ea372-95e8-45cc-bbac-954e5330299a",
   "metadata": {},
   "source": [
    "&emsp;&emsp;这个命令将列出所有正在运行的容器，包括容器 ID、创建时间、使用的镜像、命令、状态、端口等信息。"
   ]
  },
  {
   "cell_type": "markdown",
   "id": "3278f2a0-6a1c-4098-99b6-5fe3f7edca81",
   "metadata": {},
   "source": [
    "<div align=center><img src=\"https://muyu001.oss-cn-beijing.aliyuncs.com/img/image-20240703140931729.png\" width=100%></div>"
   ]
  },
  {
   "cell_type": "markdown",
   "id": "08516bc8-e478-4471-94c2-ca9b30b6356b",
   "metadata": {},
   "source": [
    "&emsp;&emsp;启动milvus服务后，该开源项目还提供了一个可视化的管理工具：Attu。地址为：https://milvus.io/docs/v2.0.x/attu.md 。 兼容性好，就是要注意版本对应的问题。我们可以直接在当前的环境下执行如下命令：\n",
    "\n",
    "```bash\n",
    "    docker run -p 9002:3000 -e MILVUS_URL=[你的服务ip]:19530 zilliz/attu:v2.3.7\n",
    "```"
   ]
  },
  {
   "cell_type": "markdown",
   "id": "d985fe15-d781-4db1-bff6-bacb836ab86c",
   "metadata": {},
   "source": [
    "<div align=center><img src=\"https://muyu001.oss-cn-beijing.aliyuncs.com/img/image-20240703141129011.png\" width=100%></div>"
   ]
  },
  {
   "cell_type": "markdown",
   "id": "851e7748-782e-45fe-856f-1f7a34a3e5e5",
   "metadata": {},
   "source": [
    "&emsp;&emsp;访问地址：http://192.168.110.131:8000/?#/connect (注意：这个地址需要替换为自己的实际服务启动IP)"
   ]
  },
  {
   "cell_type": "markdown",
   "id": "83d86186-85a1-443a-9296-371d92d8103c",
   "metadata": {},
   "source": [
    "<div align=center><img src=\"https://muyu001.oss-cn-beijing.aliyuncs.com/img/image-20240703141346314.png\" width=70%></div>"
   ]
  },
  {
   "cell_type": "markdown",
   "id": "57b72288-3b3b-40de-a576-e36fffb35c5d",
   "metadata": {},
   "source": [
    "&emsp;&emsp;进入后管理工具页面如下图所示："
   ]
  },
  {
   "cell_type": "markdown",
   "id": "8b5e3a33-e58e-476b-ae68-4d1676462069",
   "metadata": {},
   "source": [
    "<div align=center><img src=\"https://muyu001.oss-cn-beijing.aliyuncs.com/img/image-20240704133634233.png\" width=70%></div>"
   ]
  }
 ],
 "metadata": {
  "kernelspec": {
   "display_name": "Python 3 (ipykernel)",
   "language": "python",
   "name": "python3"
  },
  "language_info": {
   "codemirror_mode": {
    "name": "ipython",
    "version": 3
   },
   "file_extension": ".py",
   "mimetype": "text/x-python",
   "name": "python",
   "nbconvert_exporter": "python",
   "pygments_lexer": "ipython3",
   "version": "3.10.12"
  }
 },
 "nbformat": 4,
 "nbformat_minor": 5
}
