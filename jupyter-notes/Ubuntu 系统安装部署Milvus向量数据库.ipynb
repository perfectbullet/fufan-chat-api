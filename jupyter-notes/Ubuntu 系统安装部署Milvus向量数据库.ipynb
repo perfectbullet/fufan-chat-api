{
 "cells": [
  {
   "cell_type": "markdown",
   "id": "bfea4c27-c867-4167-9332-eef67784629d",
   "metadata": {},
   "source": [
    "# <center>Ubuntu 系统安装部署Milvus向量数据库"
   ]
  },
  {
   "cell_type": "markdown",
   "id": "a17ca8e1-43dc-4398-b1df-31d24f69907a",
   "metadata": {},
   "source": [
    "&emsp;&emsp;Milvus 是一个开源的向量数据库项目，由 ZILLIZ 创建和开源。它旨在为大规模向量数据的存储和检索提供高效的解决方案，特别是在 AI 和大数据应用中。官方github：https://github.com/milvus-io/milvus"
   ]
  },
  {
   "cell_type": "markdown",
   "id": "ffb0210b-6888-47a0-85a4-6f9cc2e35cdb",
   "metadata": {},
   "source": [
    "<div align=center><img src=\"https://muyu001.oss-cn-beijing.aliyuncs.com/img/image-20240703135903649.png\" width=70%></div>"
   ]
  },
  {
   "cell_type": "markdown",
   "id": "30c26bdf-8696-4f14-9bb4-5cdfc08b8ad9",
   "metadata": {},
   "source": [
    "&emsp;&emsp;Milvus作为一个开源的向量相似度搜索引擎，专注于大规模向量数据的快速相似度搜索。它提供了高效的向量索引和搜索功能，支持多种向量数据类型和查询方式。作为一个专门设计用于处理输入向量查询的数据库，Milvus能够在万亿规模上对向量进行索引。与现有的关系数据库主要按照预定义的模式处理结构化数据不同，Milvus是从自底向上设计的，以处理从非结构化数据转换而来的嵌入向量。\n",
    "        \n",
    "&emsp;&emsp;Faiss的索引和量化算法我们在课程前期已经给大家详细的介绍过在问答系统的接入方法，Milvus和Faiss的实现非常相似，只是可维护更强、可以做到分布式部署。越来越多的Faiss项目正在往Milvus迁移。"
   ]
  },
  {
   "cell_type": "markdown",
   "id": "c5f6504f-9f65-46ee-aa5a-f34d3aa44a5d",
   "metadata": {},
   "source": [
    "&emsp;&emsp;Milvus官方网站：https://milvus.io/docs"
   ]
  },
  {
   "cell_type": "markdown",
   "id": "eda01348-2ba2-4789-b421-51aacf954f9d",
   "metadata": {},
   "source": [
    "- **Step 1. 安装Docker**"
   ]
  },
  {
   "cell_type": "markdown",
   "id": "badee134-0808-40b1-b0a2-a03961837f70",
   "metadata": {},
   "source": [
    "&emsp;&emsp;Milvus 运行在 Docker 容器中，所以需要先安装 Docker 和 Docker Compose，依次执行下述命令即可：\n",
    "\n",
    "```bash\n",
    "\n",
    "   # 更新Ubuntu软件包列表和已安装软件的版本:\n",
    "   sudo apt update\n",
    "\n",
    "   # 安装Ubuntu系统的依赖包\n",
    "   sudo apt-get install ca-certificates curl gnupg lsb-release\n",
    "\n",
    "   # 添加Docker官方的GPG密钥\n",
    "   curl -fsSL http://mirrors.aliyun.com/docker-ce/linux/ubuntu/gpg | sudo apt-key add -\n",
    "\n",
    "   # 安装Docker\n",
    "   sudo apt-get install docker-ce docker-ce-cli containerd.io\n",
    "\n",
    "   # 启动Docker服务\n",
    "   sudo systemctl start docker\n",
    "   sudo systemctl status docker\n",
    "```"
   ]
  },
  {
   "cell_type": "markdown",
   "id": "0f2d12c9-c3f9-45db-a69e-80ba551bb47e",
   "metadata": {},
   "source": [
    "&emsp;&emsp;安装成功后，会如下所示："
   ]
  },
  {
   "cell_type": "markdown",
   "id": "521ecbb6-2dcd-45fe-b45f-f6786a16e435",
   "metadata": {},
   "source": [
    "<div align=center><img src=\"https://muyu001.oss-cn-beijing.aliyuncs.com/img/image-20240704130557014.png\" width=70%></div>"
   ]
  },
  {
   "cell_type": "markdown",
   "id": "b7a57c80-9310-4eb8-b634-38c6da49e816",
   "metadata": {},
   "source": [
    "&emsp;&emsp;安装Docker Compose\n",
    "\n",
    "&emsp;&emsp;Docker Compose是一个强大的工具，可以帮助开发人员更高效地管理和部署复杂的多容器Docker应用程序。我们可以通过编写一个YAML文件来定义应用程序的服务、网络和卷，然后使用一条命令启动整个应用程序。这样可以避免手动管理每个容器的启动和连接，简化了开发和部署流程。\n",
    "\n",
    "\n",
    "```bash\n",
    "sudo curl -L \"https://github.com/docker/compose/releases/download/1.29.2/docker-compose-$(uname -s)-$(uname -m)\" -o /usr/local/bin/docker-compose\r\n",
    "sudo chmod +x /usr/local/bin/docker-compose\r\n",
    "sudo ln -s /usr/local/bin/docker-compose /usr/bin/docker-compose\n",
    "```"
   ]
  },
  {
   "cell_type": "markdown",
   "id": "7a95b6aa-481b-4f3d-a447-6e6edb8246a6",
   "metadata": {},
   "source": [
    "<div align=center><img src=\"https://muyu001.oss-cn-beijing.aliyuncs.com/img/image-20240704130711924.png\" width=70%></div>"
   ]
  },
  {
   "cell_type": "markdown",
   "id": "55cf8b74-96a6-4091-b121-5a3ff5159af7",
   "metadata": {},
   "source": [
    "&emsp;&emsp;进入Milvus官方文档：https://milvus.io/docs"
   ]
  },
  {
   "cell_type": "markdown",
   "id": "99d937cc-0ce5-4d64-a095-d38422e8fb8b",
   "metadata": {},
   "source": [
    "<div align=center><img src=\"https://muyu001.oss-cn-beijing.aliyuncs.com/img/image-20240704130822643.png\" width=70%></div>"
   ]
  },
  {
   "cell_type": "markdown",
   "id": "3f13add0-c4f5-4846-b643-2487745b7617",
   "metadata": {},
   "source": [
    "&emsp;&emsp;下载YAML文件，并启动Milvus服务，如下所示：\n",
    "\n",
    "```bash\n",
    "    wget https://github.com/milvus-io/milvus/releases/download/v2.2.16/milvus-standalone-docker-compose.yml -O docker-compose.yml\r\n",
    "    sudo docker-compose up -d\n",
    "\r\n",
    "\n",
    "```"
   ]
  },
  {
   "cell_type": "markdown",
   "id": "4d334c68-b0b6-48e4-8f8f-44be8b14794e",
   "metadata": {},
   "source": [
    "<div align=center><img src=\"https://muyu001.oss-cn-beijing.aliyuncs.com/img/image-20240703140558978.png\" width=70%></div>"
   ]
  },
  {
   "cell_type": "markdown",
   "id": "d600a089-364a-4f0e-b5b4-74eee04b6aa7",
   "metadata": {},
   "source": [
    "&emsp;&emsp;在 Docker 和 Docker Compose 环境中，可以使用如下命令查看当前正在运行的服务或容器。\n",
    "\n",
    "```bash\n",
    "sudo docker ps\n",
    "```"
   ]
  },
  {
   "cell_type": "markdown",
   "id": "c1ab1075-0ed9-4cad-9e76-54fd42ec0935",
   "metadata": {},
   "source": [
    "&emsp;&emsp;这个命令将列出所有正在运行的容器，包括容器 ID、创建时间、使用的镜像、命令、状态、端口等信息。"
   ]
  },
  {
   "cell_type": "markdown",
   "id": "f8e1aa5f-7369-4625-a275-4f5f681293ac",
   "metadata": {},
   "source": [
    "<div align=center><img src=\"https://muyu001.oss-cn-beijing.aliyuncs.com/img/image-20240703140931729.png\" width=70%></div>"
   ]
  },
  {
   "cell_type": "markdown",
   "id": "0c4c0593-6612-46dd-8787-3efaa41916bf",
   "metadata": {},
   "source": [
    "&emsp;&emsp;启动milvus服务后，该开源项目还提供了一个可视化的管理工具：Attu。地址为：https://milvus.io/docs/v2.0.x/attu.md 。 兼容性好，就是要注意版本对应的问题。我们可以直接在当前的环境下执行如下命令：\n",
    "\n",
    "```bash\n",
    "    docker run -p 8000:3000 -e MILVUS_URL=[你的服务ip]:19530 zilliz/attu:v2.3.7\n",
    "```"
   ]
  },
  {
   "cell_type": "markdown",
   "id": "8f1b2a43-eea0-4d94-b8b5-1aaba7d8f1d0",
   "metadata": {},
   "source": [
    "<div align=center><img src=\"https://muyu001.oss-cn-beijing.aliyuncs.com/img/image-20240703141129011.png\" width=70%></div>"
   ]
  },
  {
   "cell_type": "markdown",
   "id": "4a7cdd35-038c-4fc3-9262-5b3e57d45ea3",
   "metadata": {},
   "source": [
    "&emsp;&emsp;访问地址：http://192.168.110.131:8000/?#/connect (注意：这个地址需要替换为自己的实际服务启动IP)"
   ]
  },
  {
   "cell_type": "markdown",
   "id": "f68965b1-8df2-44ee-a1e5-c263b4d745ef",
   "metadata": {},
   "source": [
    "<div align=center><img src=\"https://muyu001.oss-cn-beijing.aliyuncs.com/img/image-20240703141346314.png\" width=70%></div>"
   ]
  },
  {
   "cell_type": "markdown",
   "id": "b2e1e875-f783-423a-8d8c-dbaff8d3b332",
   "metadata": {},
   "source": [
    "&emsp;&emsp;进入后管理工具页面如下图所示："
   ]
  },
  {
   "cell_type": "markdown",
   "id": "c6c95c84-76cb-48ad-beb5-baa9f2c90a14",
   "metadata": {},
   "source": [
    "<div align=center><img src=\"https://muyu001.oss-cn-beijing.aliyuncs.com/img/image-20240704133634233.png\" width=70%></div>"
   ]
  }
 ],
 "metadata": {
  "kernelspec": {
   "display_name": "Python 3 (ipykernel)",
   "language": "python",
   "name": "python3"
  },
  "language_info": {
   "codemirror_mode": {
    "name": "ipython",
    "version": 3
   },
   "file_extension": ".py",
   "mimetype": "text/x-python",
   "name": "python",
   "nbconvert_exporter": "python",
   "pygments_lexer": "ipython3",
   "version": "3.10.9"
  }
 },
 "nbformat": 4,
 "nbformat_minor": 5
}
